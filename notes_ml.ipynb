{
 "cells": [
  {
   "cell_type": "code",
   "execution_count": null,
   "metadata": {
    "collapsed": true
   },
   "outputs": [],
   "source": [
    "# elasticNet\n",
    "# http://scikit-learn.org/stable/modules/generated/sklearn.linear_model.ElasticNet.html#sklearn.linear_model.ElasticNet\n",
    "\n",
    "# SMOTE\n",
    "# https://www.cs.cmu.edu/afs/cs/project/jair/pub/volume16/chawla02a-html/chawla2002.html\n",
    "\n",
    "# Bayesian Survival Analysis\n",
    "# https://pymc-devs.github.io/pymc3/notebooks/survival_analysis.html\n",
    "\n",
    "# xgboost\n",
    "# https://github.com/dmlc/xgboost\n",
    "# https://www.youtube.com/watch?v=ufHo8vbk6g4\n",
    "\n",
    "# hyperopt\n",
    "\n"
   ]
  },
  {
   "cell_type": "code",
   "execution_count": null,
   "metadata": {
    "collapsed": true
   },
   "outputs": [],
   "source": []
  },
  {
   "cell_type": "code",
   "execution_count": null,
   "metadata": {
    "collapsed": true
   },
   "outputs": [],
   "source": [
    "###############################\n",
    "# Train/test split\n",
    "###############################\n",
    "\n",
    "def train_test_split(dataX, datay, proportion_train = .75):\n",
    "    train_cutoff = int(np.floor(proportion_train*len(dataX)))\n",
    "\n",
    "    X_train = dataX[:train_cutoff]\n",
    "    X_test  = dataX[train_cutoff:]\n",
    "\n",
    "    y_train = datay[:train_cutoff]\n",
    "    y_test  = datay[train_cutoff:]\n",
    "\n",
    "    return X_train, y_train, X_test, y_test"
   ]
  },
  {
   "cell_type": "code",
   "execution_count": null,
   "metadata": {
    "collapsed": true
   },
   "outputs": [],
   "source": []
  },
  {
   "cell_type": "code",
   "execution_count": null,
   "metadata": {
    "collapsed": true
   },
   "outputs": [],
   "source": []
  },
  {
   "cell_type": "code",
   "execution_count": null,
   "metadata": {
    "collapsed": true
   },
   "outputs": [],
   "source": [
    "import "
   ]
  }
 ],
 "metadata": {
  "anaconda-cloud": {},
  "kernelspec": {
   "display_name": "Python [Root]",
   "language": "python",
   "name": "Python [Root]"
  },
  "language_info": {
   "codemirror_mode": {
    "name": "ipython",
    "version": 2
   },
   "file_extension": ".py",
   "mimetype": "text/x-python",
   "name": "python",
   "nbconvert_exporter": "python",
   "pygments_lexer": "ipython2",
   "version": "2.7.11"
  }
 },
 "nbformat": 4,
 "nbformat_minor": 0
}
