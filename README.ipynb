{
 "cells": [
  {
   "cell_type": "code",
   "execution_count": 3,
   "metadata": {
    "collapsed": false
   },
   "outputs": [],
   "source": [
    "# http://blog.impiyush.me/2015/02/running-ipython-notebook-server-on-aws.html\n",
    "# (https://www.youtube.com/watch?v=q4PrYQOShnE)\n",
    "\n",
    "# to connect and install new packages, use conda install \n",
    "# ssh -i \"sdAWStest.pem\" ubuntu@ec2-52-39-50-220.us-west-2.compute.amazonaws.com\n",
    "\n",
    "# password: password\n",
    "# 'sha1:6f9c4fe8fb95:1f5d1530015048f5d0c58812b4dc4a60b9ebabd0'\n",
    "\n",
    "# memory issue\n",
    "# https://github.com/jupyter/notebook/issues/642"
   ]
  },
  {
   "cell_type": "code",
   "execution_count": null,
   "metadata": {
    "collapsed": true
   },
   "outputs": [],
   "source": [
    "## installing packages\n",
    "# ssh -i \"sdAWStest.pem\" ubuntu@ec2-52-39-50-220.us-west-2.compute.amazonaws.com\n",
    "# conda install [package_name]\n",
    "\n",
    "## restarting jupyter after conda install\n",
    "# ps -ux\n",
    "# kill -9 [PID]\n",
    "# nohup jupyter notebook &\n",
    "\n",
    "## transfer files\n",
    "# scp -i ~/.ssh/sdAWStest.pem ~/.gitconfig ubuntu@ec2-52-40-203-228.us-west-2.compute.amazonaws.com:~/Notebooks\n",
    "\n",
    "## remember to update ~/.ssh/config for Agent forwarding etc"
   ]
  },
  {
   "cell_type": "code",
   "execution_count": null,
   "metadata": {
    "collapsed": true
   },
   "outputs": [],
   "source": [
    "## customizing jupyter keyboard shortcut\n",
    "# http://blog.rtwilson.com/how-to-get-sublime-text-style-editing-in-the-ipythonjupyter-notebook/\n",
    "# see jupyter --config-dir"
   ]
  },
  {
   "cell_type": "code",
   "execution_count": null,
   "metadata": {
    "collapsed": true
   },
   "outputs": [],
   "source": [
    "%%javascript\n",
    "// // Makeshift variable expolorer, REQUIRED that last cell contains 'whos' or equivalent\n",
    "\n",
    "// need Kernel-> Restart & clear output (or IPython.notebook.clear_all_output()) to clear the js saved in the serverside from previous run\n",
    "// need to save\n",
    "// need to reload page\n",
    "// BETTER WAY: open this notebook in another tab, and run this cell, and never save that tab\n",
    "\n",
    "var runLastCell = function() {\n",
    "   // var cell = IPython.notebook.get_cell(1); // first cell\n",
    "   var cells = IPython.notebook.get_cells();\n",
    "   var cell = cells[cells.length-1]; // last cell\n",
    "   cell.execute();\n",
    "    \n",
    "   setTimeout(function(){\n",
    "       IPython.notebook.scroll_to_bottom();\n",
    "   },100)\n",
    "\n",
    "};\n",
    "\n",
    "runLastCell();\n",
    "setInterval(runLastCell, 60000);"
   ]
  }
 ],
 "metadata": {
  "anaconda-cloud": {},
  "kernelspec": {
   "display_name": "Python [Root]",
   "language": "python",
   "name": "Python [Root]"
  },
  "language_info": {
   "codemirror_mode": {
    "name": "ipython",
    "version": 2
   },
   "file_extension": ".py",
   "mimetype": "text/x-python",
   "name": "python",
   "nbconvert_exporter": "python",
   "pygments_lexer": "ipython2",
   "version": "2.7.11"
  }
 },
 "nbformat": 4,
 "nbformat_minor": 0
}
