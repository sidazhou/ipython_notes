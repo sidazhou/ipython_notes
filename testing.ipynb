{
 "cells": [
  {
   "cell_type": "code",
   "execution_count": 88,
   "metadata": {
    "collapsed": false
   },
   "outputs": [
    {
     "name": "stdout",
     "output_type": "stream",
     "text": [
      "The memory_profiler extension is already loaded. To reload it, use:\n",
      "  %reload_ext memory_profiler\n",
      "The line_profiler extension is already loaded. To reload it, use:\n",
      "  %reload_ext line_profiler\n"
     ]
    }
   ],
   "source": [
    "import pandas as pd\n",
    "import numpy as np\n",
    "import matplotlib.pyplot as plt\n",
    "import seaborn as sns\n",
    "\n",
    "%matplotlib inline\n",
    "\n",
    "plt.style.use('seaborn-bright')\n",
    "\n",
    "import pickle\n",
    "from sklearn import linear_model\n",
    "from sklearn import metrics\n",
    "\n",
    "from IPython.display import display\n",
    "%load_ext memory_profiler\n",
    "%load_ext line_profiler"
   ]
  },
  {
   "cell_type": "code",
   "execution_count": null,
   "metadata": {
    "collapsed": false,
    "scrolled": false
   },
   "outputs": [],
   "source": [
    "# not in notes (!)\n",
    "df = pd.DataFrame(np.ones(50).reshape(10,5), \n",
    "                      index=pd.date_range('1/1/2016', periods=10, freq='H' ),\n",
    "                      columns=list('ABCDE'))\n",
    "df['size']=0\n",
    "df['size'] = pd.Series([0,0,0,0,200,0,0,2000,0,0], index=df.index)\n",
    "df.loc[:,\"size_csum\"] = df['size'].cumsum()\n",
    "\n",
    "start = pd.to_datetime('1/1/1900')\n",
    "df.loc[:,\"size_astime\"] = start + pd.to_timedelta(df.size_csum,'ms')\n",
    "df.index = df.size_astime\n",
    "\n",
    "display(df)\n",
    "print(df.E.resample('1000ms',label='right').sum())\n",
    "\n",
    "# timestamp_col = df.timestamp.resample('30min',label='right').last()\n",
    "\n",
    "# pd.to_datetime(timestamp_col).dropna()\n",
    "\n",
    "# after going around the circle, the workaround has to be applying an extra operation:\n",
    "# `pd.to_datetime(timestamp_col).dropna()`\n",
    "\n",
    "# df"
   ]
  },
  {
   "cell_type": "code",
   "execution_count": null,
   "metadata": {
    "collapsed": false
   },
   "outputs": [],
   "source": [
    "# flattening history for autoregression\n",
    "df = pd.DataFrame({'val': [10,40,30,10,11,12,10,11,12,19]}, index=pd.date_range('2016-01-01 19:00:00', periods=10, freq='H' ) )\n",
    "display(df)\n",
    "def myf(df):\n",
    "    for i in range(1,2):\n",
    "        df['val_t-' + str(i)] = df['val'].shift(i)\n",
    "\n",
    "    for i in range(1,5):\n",
    "        df['d_val_t+' + str(i)] = df['val'].shift(-i) - df['val']\n",
    "\n",
    "    df[['d_val_t+3','d_val_t+4']].mean(axis=1)\n",
    "    return df\n",
    "\n",
    "df.groupby(pd.TimeGrouper('D')).apply(myf)"
   ]
  },
  {
   "cell_type": "code",
   "execution_count": 23,
   "metadata": {
    "collapsed": false,
    "scrolled": true
   },
   "outputs": [
    {
     "name": "stdout",
     "output_type": "stream",
     "text": [
      "Automatic pdb calling has been turned OFF\n",
      "{'alpha': 0.1, 'cv': 'hep'}\n"
     ]
    },
    {
     "ename": "TypeError",
     "evalue": "__init__() got an unexpected keyword argument 'cv'",
     "output_type": "error",
     "traceback": [
      "\u001b[0;31m---------------------------------------------------------------------------\u001b[0m",
      "\u001b[0;31mTypeError\u001b[0m                                 Traceback (most recent call last)",
      "\u001b[0;32m<ipython-input-23-feb5e1728e32>\u001b[0m in \u001b[0;36m<module>\u001b[0;34m()\u001b[0m\n\u001b[1;32m     11\u001b[0m \u001b[0;34m\u001b[0m\u001b[0m\n\u001b[1;32m     12\u001b[0m \u001b[0mmy_model\u001b[0m \u001b[0;34m=\u001b[0m \u001b[0mRidge\u001b[0m\u001b[0;34m\u001b[0m\u001b[0m\n\u001b[0;32m---> 13\u001b[0;31m \u001b[0mres\u001b[0m \u001b[0;34m=\u001b[0m \u001b[0mmyf\u001b[0m\u001b[0;34m(\u001b[0m\u001b[0mmy_model\u001b[0m\u001b[0;34m,\u001b[0m \u001b[0malpha\u001b[0m\u001b[0;34m=\u001b[0m\u001b[0;36m0.1\u001b[0m\u001b[0;34m)\u001b[0m\u001b[0;34m\u001b[0m\u001b[0m\n\u001b[0m\u001b[1;32m     14\u001b[0m \u001b[0;32mprint\u001b[0m \u001b[0mres\u001b[0m\u001b[0;34m.\u001b[0m\u001b[0mcoef_\u001b[0m\u001b[0;34m\u001b[0m\u001b[0m\n\u001b[1;32m     15\u001b[0m \u001b[0;34m\u001b[0m\u001b[0m\n",
      "\u001b[0;32m<ipython-input-23-feb5e1728e32>\u001b[0m in \u001b[0;36mmyf\u001b[0;34m(lm, **args)\u001b[0m\n\u001b[1;32m      3\u001b[0m     \u001b[0margs\u001b[0m\u001b[0;34m[\u001b[0m\u001b[0;34m'cv'\u001b[0m\u001b[0;34m]\u001b[0m \u001b[0;34m=\u001b[0m \u001b[0;34m'hep'\u001b[0m\u001b[0;34m\u001b[0m\u001b[0m\n\u001b[1;32m      4\u001b[0m     \u001b[0;32mprint\u001b[0m \u001b[0margs\u001b[0m\u001b[0;34m\u001b[0m\u001b[0m\n\u001b[0;32m----> 5\u001b[0;31m     \u001b[0mmodel\u001b[0m \u001b[0;34m=\u001b[0m \u001b[0mlm\u001b[0m\u001b[0;34m(\u001b[0m\u001b[0;34m**\u001b[0m\u001b[0margs\u001b[0m\u001b[0;34m)\u001b[0m\u001b[0;34m\u001b[0m\u001b[0m\n\u001b[0m\u001b[1;32m      6\u001b[0m     \u001b[0mX_train\u001b[0m \u001b[0;34m=\u001b[0m \u001b[0;34m[\u001b[0m\u001b[0;34m[\u001b[0m\u001b[0;36m1\u001b[0m\u001b[0;34m,\u001b[0m\u001b[0;36m2\u001b[0m\u001b[0;34m,\u001b[0m\u001b[0;36m2\u001b[0m\u001b[0;34m]\u001b[0m\u001b[0;34m,\u001b[0m\u001b[0;34m[\u001b[0m\u001b[0;36m3\u001b[0m\u001b[0;34m,\u001b[0m\u001b[0;36m4\u001b[0m\u001b[0;34m,\u001b[0m\u001b[0;36m4\u001b[0m\u001b[0;34m]\u001b[0m\u001b[0;34m]\u001b[0m\u001b[0;34m\u001b[0m\u001b[0m\n\u001b[1;32m      7\u001b[0m     \u001b[0my_train\u001b[0m \u001b[0;34m=\u001b[0m \u001b[0;34m[\u001b[0m\u001b[0;36m100\u001b[0m\u001b[0;34m,\u001b[0m\u001b[0;36m200\u001b[0m\u001b[0;34m]\u001b[0m\u001b[0;34m\u001b[0m\u001b[0m\n",
      "\u001b[0;31mTypeError\u001b[0m: __init__() got an unexpected keyword argument 'cv'"
     ]
    }
   ],
   "source": [
    "%pdb off\n",
    "def myf(lm, **args):\n",
    "    args['cv'] = 'hep'\n",
    "    print args\n",
    "    model = lm(**args)\n",
    "    X_train = [[1,2,2],[3,4,4]]\n",
    "    y_train = [100,200]\n",
    "    \n",
    "    result = model.fit(X_train, y_train)  \n",
    "    return result\n",
    "\n",
    "my_model = Ridge\n",
    "res = myf(my_model, alpha=0.1)\n",
    "print res.coef_\n",
    "\n",
    "my_model = Lasso\n",
    "res = myf(my_model)\n",
    "print res.coef_"
   ]
  },
  {
   "cell_type": "code",
   "execution_count": 86,
   "metadata": {
    "collapsed": false
   },
   "outputs": [
    {
     "data": {
      "text/plain": [
       "0.66666666666666663"
      ]
     },
     "execution_count": 86,
     "metadata": {},
     "output_type": "execute_result"
    }
   ],
   "source": [
    "X_train = [[20,10,1],[22,11,2],[33,13,3],[-20,-10,1],[-22,-11,2],[-33,-13,3]]\n",
    "y_train = [-1,0,1,-1,0,1]\n",
    "# y_train = ['-1','0','1','-1','0','1']\n",
    "\n",
    "model = linear_model.LogisticRegression(multi_class='multinomial', solver='newton-cg', class_weight={-1:0.5, 0:0, 1:0.5})\n",
    "\n",
    "model.fit(X_train, y_train)\n",
    "\n",
    "# model.predict([15,8,3])\n",
    "# model.score([[15,8,3],[2,3,3],[6,6,6],[6,6,7]],[1,-1,0,0],[1,1,0,0])\n",
    "model.score(X_train,y_train)\n",
    "\n",
    "\n",
    "# model.coef_"
   ]
  },
  {
   "cell_type": "code",
   "execution_count": 45,
   "metadata": {
    "collapsed": false
   },
   "outputs": [],
   "source": [
    "m = linear_model.LogisticRegression()"
   ]
  },
  {
   "cell_type": "code",
   "execution_count": 48,
   "metadata": {
    "collapsed": false
   },
   "outputs": [
    {
     "data": {
      "text/plain": [
       "'LogisticRegression'"
      ]
     },
     "execution_count": 48,
     "metadata": {},
     "output_type": "execute_result"
    }
   ],
   "source": [
    "m.__class__.__name__"
   ]
  },
  {
   "cell_type": "code",
   "execution_count": null,
   "metadata": {
    "collapsed": true
   },
   "outputs": [],
   "source": []
  },
  {
   "cell_type": "code",
   "execution_count": 74,
   "metadata": {
    "collapsed": false
   },
   "outputs": [
    {
     "data": {
      "text/plain": [
       "array([2, 2])"
      ]
     },
     "execution_count": 74,
     "metadata": {},
     "output_type": "execute_result"
    }
   ],
   "source": [
    "np.round([2.2,2.1])\n",
    "q=np.array([2.2,2.1])\n",
    "q.astype(int)"
   ]
  },
  {
   "cell_type": "code",
   "execution_count": 109,
   "metadata": {
    "collapsed": false
   },
   "outputs": [
    {
     "data": {
      "text/plain": [
       "LogisticRegressionCV(Cs=10, class_weight=None, cv=2, dual=False,\n",
       "           fit_intercept=True, intercept_scaling=1.0, max_iter=100,\n",
       "           multi_class='multinomial', n_jobs=1, penalty='l2',\n",
       "           random_state=None, refit=True,\n",
       "           scoring=make_scorer(accuracy_score, sample_weight=[1, 0, 0]),\n",
       "           solver='newton-cg', tol=0.0001, verbose=0)"
      ]
     },
     "execution_count": 109,
     "metadata": {},
     "output_type": "execute_result"
    }
   ],
   "source": [
    "\n",
    "\n",
    "# my_scorer\n",
    "\n",
    "X_train = [[20,10,1],[22,11,2],[33,13,3],[-20,-10,1],[-22,-11,2],[-33,-13,3]]\n",
    "y_train = [-1,0,1,-1,0,1]\n",
    "# y_train = ['-1','0','1','-1','0','1']\n",
    "\n",
    "my_scorer = metrics.make_scorer(metrics.accuracy_score, sample_weight=[1,0,0])\n",
    "\n",
    "model = linear_model.LogisticRegressionCV(multi_class='multinomial', solver='newton-cg', cv=2, scoring=my_scorer)\n",
    "\n",
    "model.fit(X_train, y_train)\n",
    "\n",
    "# model.predict([15,8,3])\n",
    "# model.score([[15,8,3],[2,3,3],[6,6,6],[6,6,7]],[1,-1,0,0],[1,1,1,1])\n",
    "# model.score(X_train,y_train)\n",
    "\n",
    "\n",
    "# model.coef_\n"
   ]
  },
  {
   "cell_type": "code",
   "execution_count": 138,
   "metadata": {
    "collapsed": false
   },
   "outputs": [
    {
     "name": "stdout",
     "output_type": "stream",
     "text": [
      "1.0\n"
     ]
    },
    {
     "data": {
      "text/plain": [
       "1.0"
      ]
     },
     "execution_count": 138,
     "metadata": {},
     "output_type": "execute_result"
    }
   ],
   "source": [
    "# custom scorer for scoring cv\n",
    "X_train = [[20,10,1],[22,11,2],[33,13,3],[-20,-10,1],[-22,-11,2],[-33,-13,3]] # pattern: z=1,2,3 is labeled -1,0,1 respectively\n",
    "y_train = [-1,0,1,-1,0,1]\n",
    "\n",
    "scorer = metrics.make_scorer(metrics.accuracy_score, sample_weight=[0.5])\n",
    "\n",
    "model = linear_model.LogisticRegression(multi_class='multinomial', solver='newton-cg')\n",
    "model.fit(X_train, y_train)\n",
    "\n",
    "def my_scorer(model,X, y_true):\n",
    "    y_pred = model.predict(X)\n",
    "\n",
    "    temp_weight = y_true\n",
    "    ind = y_true == 0\n",
    "    temp_weight[ind] = 0\n",
    "    temp_weight[~ind] = 1 # weight want to be integers\n",
    "\n",
    "    return metrics.accuracy_score(y_true, y_pred, sample_weight=temp_weight )\n",
    "\n",
    "print scorer(model,[[1,2,3]],[1]) # same interface as this\n",
    "my_scorer(model,[[1,2,3]],[1]) "
   ]
  }
 ],
 "metadata": {
  "anaconda-cloud": {},
  "kernelspec": {
   "display_name": "Python [Root]",
   "language": "python",
   "name": "Python [Root]"
  },
  "language_info": {
   "codemirror_mode": {
    "name": "ipython",
    "version": 2
   },
   "file_extension": ".py",
   "mimetype": "text/x-python",
   "name": "python",
   "nbconvert_exporter": "python",
   "pygments_lexer": "ipython2",
   "version": "2.7.11"
  }
 },
 "nbformat": 4,
 "nbformat_minor": 0
}
