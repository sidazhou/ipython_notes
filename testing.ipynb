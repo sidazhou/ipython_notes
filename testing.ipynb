{
 "cells": [
  {
   "cell_type": "code",
   "execution_count": 2,
   "metadata": {
    "collapsed": false
   },
   "outputs": [],
   "source": [
    "import pandas as pd\n",
    "import numpy as np\n",
    "import matplotlib.pyplot as plt\n",
    "import seaborn as sns\n",
    "\n",
    "%matplotlib inline\n",
    "\n",
    "plt.style.use('seaborn-bright')\n",
    "\n",
    "import pickle\n",
    "from IPython.display import display\n",
    "%load_ext memory_profiler\n",
    "%load_ext line_profiler"
   ]
  },
  {
   "cell_type": "code",
   "execution_count": 46,
   "metadata": {
    "collapsed": false
   },
   "outputs": [],
   "source": [
    "# flattening features in time (rows) into feature_time (column)\n",
    "df = pd.DataFrame({'sample': ['A','B','B','C','C','C'], 'val': [10,40,30,10,11,12], 'text': [110,140,130,110,111,112], 'time_tick_num':[0,0,1,0,1,2]})\n",
    "#     display(df)\n",
    "\n",
    "def myf(df):\n",
    "    df = df.head(2)\n",
    "    output = pd.DataFrame()\n",
    "    for cname in df.columns.difference(['sample', 'time_tick_num']): # columns we dont need\n",
    "        for i in range(2):\n",
    "            output[cname + '_' + str(i)] = df[cname].shift(-i)\n",
    "    return output.iloc[0]\n",
    "\n",
    "def profile_this():\n",
    "    df_grouped = df.groupby('sample')\n",
    "    output = df_grouped.apply(myf)\n",
    "\n",
    "\n",
    "    # alternative, approximately, may be faster\n",
    "    for cname in df.columns.difference(['sample', 'time_tick_num']):\n",
    "        for i in range(1,2):\n",
    "            df[cname + '_' + str(i)] = df_grouped[cname].shift(-i)\n",
    "\n",
    "    output3 = df_grouped.first()\n",
    "    \n",
    "%lprun -f profile_this -f myf profile_this()  # profile and call the function"
   ]
  },
  {
   "cell_type": "code",
   "execution_count": 39,
   "metadata": {
    "collapsed": true
   },
   "outputs": [],
   "source": [
    "df = pd.DataFrame({'sample': ['A','B','B','C','C','C'], 'val': [10,40,30,10,11,12], 'text': [110,140,130,110,111,112], 'time_tick_num':[0,0,1,0,1,2]})\n"
   ]
  },
  {
   "cell_type": "code",
   "execution_count": 43,
   "metadata": {
    "collapsed": false
   },
   "outputs": [
    {
     "data": {
      "text/html": [
       "<div>\n",
       "<table border=\"1\" class=\"dataframe\">\n",
       "  <thead>\n",
       "    <tr style=\"text-align: right;\">\n",
       "      <th></th>\n",
       "      <th>sample</th>\n",
       "      <th>text</th>\n",
       "      <th>time_tick_num</th>\n",
       "      <th>val</th>\n",
       "    </tr>\n",
       "  </thead>\n",
       "  <tbody>\n",
       "    <tr>\n",
       "      <th>0</th>\n",
       "      <td>A</td>\n",
       "      <td>110</td>\n",
       "      <td>0</td>\n",
       "      <td>10</td>\n",
       "    </tr>\n",
       "    <tr>\n",
       "      <th>1</th>\n",
       "      <td>B</td>\n",
       "      <td>140</td>\n",
       "      <td>0</td>\n",
       "      <td>40</td>\n",
       "    </tr>\n",
       "    <tr>\n",
       "      <th>2</th>\n",
       "      <td>B</td>\n",
       "      <td>130</td>\n",
       "      <td>1</td>\n",
       "      <td>30</td>\n",
       "    </tr>\n",
       "    <tr>\n",
       "      <th>3</th>\n",
       "      <td>C</td>\n",
       "      <td>110</td>\n",
       "      <td>0</td>\n",
       "      <td>10</td>\n",
       "    </tr>\n",
       "    <tr>\n",
       "      <th>4</th>\n",
       "      <td>C</td>\n",
       "      <td>111</td>\n",
       "      <td>1</td>\n",
       "      <td>11</td>\n",
       "    </tr>\n",
       "    <tr>\n",
       "      <th>5</th>\n",
       "      <td>C</td>\n",
       "      <td>112</td>\n",
       "      <td>2</td>\n",
       "      <td>12</td>\n",
       "    </tr>\n",
       "  </tbody>\n",
       "</table>\n",
       "</div>"
      ],
      "text/plain": [
       "  sample  text  time_tick_num  val\n",
       "0      A   110              0   10\n",
       "1      B   140              0   40\n",
       "2      B   130              1   30\n",
       "3      C   110              0   10\n",
       "4      C   111              1   11\n",
       "5      C   112              2   12"
      ]
     },
     "execution_count": 43,
     "metadata": {},
     "output_type": "execute_result"
    }
   ],
   "source": [
    "output=df\n",
    "output"
   ]
  },
  {
   "cell_type": "code",
   "execution_count": null,
   "metadata": {
    "collapsed": true
   },
   "outputs": [],
   "source": []
  }
 ],
 "metadata": {
  "anaconda-cloud": {},
  "kernelspec": {
   "display_name": "Python [Root]",
   "language": "python",
   "name": "Python [Root]"
  },
  "language_info": {
   "codemirror_mode": {
    "name": "ipython",
    "version": 2
   },
   "file_extension": ".py",
   "mimetype": "text/x-python",
   "name": "python",
   "nbconvert_exporter": "python",
   "pygments_lexer": "ipython2",
   "version": "2.7.11"
  }
 },
 "nbformat": 4,
 "nbformat_minor": 0
}
