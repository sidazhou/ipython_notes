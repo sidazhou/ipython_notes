{
 "cells": [
  {
   "cell_type": "code",
   "execution_count": 1,
   "metadata": {
    "collapsed": false
   },
   "outputs": [],
   "source": [
    "import pandas as pd\n",
    "import numpy as np\n",
    "import matplotlib.pyplot as plt\n",
    "import seaborn as sns\n",
    "\n",
    "%matplotlib inline\n",
    "\n",
    "plt.style.use('seaborn-bright')\n",
    "\n",
    "import pickle\n",
    "from sklearn import linear_model\n",
    "from sklearn import svm\n",
    "from sklearn import metrics\n",
    "from sklearn import preprocessing\n",
    "\n",
    "from IPython.display import display\n",
    "%load_ext memory_profiler\n",
    "%load_ext line_profiler"
   ]
  },
  {
   "cell_type": "code",
   "execution_count": 2,
   "metadata": {
    "collapsed": true
   },
   "outputs": [],
   "source": [
    "def train_test_split(dataX, datay, proportion_train = .75):\n",
    "    train_cutoff = int(np.floor(proportion_train*len(dataX)))\n",
    "\n",
    "    X_train = dataX[:train_cutoff]\n",
    "    X_test  = dataX[train_cutoff:]\n",
    "\n",
    "    y_train = datay[:train_cutoff]\n",
    "    y_test  = datay[train_cutoff:]\n",
    "\n",
    "    return X_train, y_train, X_test, y_test\n",
    "\n",
    "def feature_target_split(df,feature_names, target_name):\n",
    "    X_data = df[feature_names].as_matrix()\n",
    "    y_data = df[target_name].as_matrix()\n",
    "    return X_data, y_data"
   ]
  },
  {
   "cell_type": "code",
   "execution_count": 63,
   "metadata": {
    "collapsed": false
   },
   "outputs": [
    {
     "name": "stdout",
     "output_type": "stream",
     "text": [
      "[[ 0.00051559 -0.39399924]]\n",
      "[-0.2385405]\n"
     ]
    },
    {
     "data": {
      "image/png": "[encoded data removed]",
      "text/plain": [
       "<matplotlib.figure.Figure at 0x113e415d0>"
      ]
     },
     "metadata": {},
     "output_type": "display_data"
    }
   ],
   "source": [
    "# unnormalized gives false result, see what happens to decision boundary when one axis is scaled\n",
    "%matplotlib inline\n",
    "np.random.seed(0)\n",
    "scale_fac = 50\n",
    "x0 = np.array([1,2,2,3]) * scale_fac\n",
    "y0 = np.array([1,1,2,2])\n",
    "df1 = pd.DataFrame({'x':x0, 'y':y0, 'label':0})\n",
    "\n",
    "x1 = np.array([3,4,3,4]) * scale_fac\n",
    "y1 = np.array([0,0,1,1])\n",
    "df2 = pd.DataFrame({'x':x1, 'y':y1, 'label':1})\n",
    "\n",
    "df = pd.concat([df1,df2])\n",
    "df\n",
    "######\n",
    "X_data, y_data = feature_target_split(df,['x','y'],'label')\n",
    "model = svm.LinearSVC()\n",
    "\n",
    "model.fit(X_data,y_data)\n",
    "print model.coef_\n",
    "print model.intercept_\n",
    "\n",
    "plt.plot(x0/ scale_fac,y0,'ro')\n",
    "plt.plot(x1/ scale_fac,y1,'ko')\n",
    "\n",
    "m = - model.coef_[0][0] / model.coef_[0][1]\n",
    "c = - model.intercept_[0] / model.coef_[0][1]\n",
    "\n",
    "xx = np.linspace(0,6*scale_fac)\n",
    "yy = m* scale_fac* xx + c\n",
    "\n",
    "plt.plot(xx, yy, 'b-')\n",
    "plt.xlim(-1, 6)\n",
    "plt.ylim(-1, 6)\n",
    "plt.gca().set_aspect('equal', adjustable='box')"
   ]
  },
  {
   "cell_type": "code",
   "execution_count": 120,
   "metadata": {
    "collapsed": false
   },
   "outputs": [
    {
     "name": "stdout",
     "output_type": "stream",
     "text": [
      "[[ 0.02157698 -1.06442345]]\n",
      "[-0.04655108]\n"
     ]
    },
    {
     "data": {
      "image/png": "[encoded data removed]",
      "text/plain": [
       "<matplotlib.figure.Figure at 0x122619f50>"
      ]
     },
     "metadata": {},
     "output_type": "display_data"
    }
   ],
   "source": [
    "# unnormalized gives false result, see what happens to decision boundary when one axis is scaled\n",
    "%matplotlib inline\n",
    "np.random.seed(0)\n",
    "scale_fac = 50\n",
    "\n",
    "x0 = np.array([1,2,2,3]) + scale_fac\n",
    "y0 = np.array([1,1,2,2])\n",
    "df1 = pd.DataFrame({'x':x0, 'y':y0, 'label':0})\n",
    "\n",
    "x1 = np.array([3,4,3,4]) + scale_fac\n",
    "y1 = np.array([0,0,1,1])\n",
    "df2 = pd.DataFrame({'x':x1, 'y':y1, 'label':1})\n",
    "\n",
    "df = pd.concat([df1,df2])\n",
    "df\n",
    "######\n",
    "X_data, y_data = feature_target_split(df,['x','y'],'label')\n",
    "# model = svm.LinearSVC()\n",
    "model = linear_model.LogisticRegression()\n",
    "\n",
    "model.fit(X_data,y_data)\n",
    "print model.coef_\n",
    "print model.intercept_\n",
    "\n",
    "plt.plot(x0,y0,'ro')\n",
    "plt.plot(x1,y1,'ko')\n",
    "\n",
    "m = - model.coef_[0][0] / model.coef_[0][1]\n",
    "c = - model.intercept_[0] / model.coef_[0][1]\n",
    "\n",
    "xx = np.linspace(-5,6+scale_fac)\n",
    "yy = m* xx + c\n",
    "\n",
    "plt.plot(xx, yy, 'b-')\n",
    "plt.xlim(-1+scale_fac, 6+scale_fac)\n",
    "plt.ylim(-1, 6)\n",
    "plt.gca().set_aspect('equal', adjustable='box')"
   ]
  },
  {
   "cell_type": "code",
   "execution_count": 59,
   "metadata": {
    "collapsed": false
   },
   "outputs": [
    {
     "name": "stdout",
     "output_type": "stream",
     "text": [
      "model.coef_ [[ 0.92450041 -1.01482232]]\n",
      "model.intercept_ [-0.07189403]\n",
      "scaler.scale_ [ 4.84122918  1.22474487]\n",
      "scaler.mean_ [ 13.75   1.  ]\n",
      "coef_:  [[ 0.19096398 -0.82859896]]\n"
     ]
    },
    {
     "data": {
      "image/png": "[encoded data removed]",
      "text/plain": [
       "<matplotlib.figure.Figure at 0x104509610>"
      ]
     },
     "metadata": {},
     "output_type": "display_data"
    },
    {
     "data": {
      "image/png": "[encoded data removed]",
      "text/plain": [
       "<matplotlib.figure.Figure at 0x11d42bf90>"
      ]
     },
     "metadata": {},
     "output_type": "display_data"
    }
   ],
   "source": [
    "# effect of standardization / normalization to the decision boundary for LogisticRegression and SVM\n",
    "np.random.seed(0)\n",
    "scale_fac = 5\n",
    "x0 = np.array([1,2,2,3])*scale_fac\n",
    "y0 = np.array([3,1,2,2]).astype(float)\n",
    "df1 = pd.DataFrame({'x':x0, 'y':y0, 'label':0})\n",
    "\n",
    "x1 = np.array([3,4,3,4])*scale_fac\n",
    "y1 = np.array([0,0,-1,1]).astype(float)\n",
    "df2 = pd.DataFrame({'x':x1, 'y':y1, 'label':1})\n",
    "\n",
    "df = pd.concat([df1,df2])\n",
    "######\n",
    "X_data, y_data = feature_target_split(df,['x','y'],'label')\n",
    "\n",
    "scaler = preprocessing.StandardScaler().fit(X_data)\n",
    "\n",
    "model = linear_model.LogisticRegression()\n",
    "# model = svm.LinearSVC()\n",
    "\n",
    "model.fit(scaler.transform(X_data),y_data)\n",
    "print 'model.coef_', model.coef_\n",
    "print 'model.intercept_', model.intercept_\n",
    "\n",
    "print 'scaler.scale_', scaler.scale_\n",
    "print 'scaler.mean_', scaler.mean_\n",
    "\n",
    "\n",
    "plt.plot(x0,y0,'ro')\n",
    "plt.plot(x1,y1,'ko')\n",
    "\n",
    "coef_ = model.coef_ / scaler.scale_ \n",
    "intercept_ =  - np.dot(coef_[0], scaler.mean_) + model.intercept_\n",
    "\n",
    "print 'coef_: ', coef_\n",
    "m = - coef_[0][0] / coef_[0][1] \n",
    "c = - intercept_[0] / coef_[0][1] \n",
    "\n",
    "xx = np.linspace(-10,60)\n",
    "yy = m * xx + c\n",
    "\n",
    "plt.plot(xx, yy, 'b-')\n",
    "plt.xlim(-1, 5*scale_fac)\n",
    "plt.ylim(-1, 5)\n",
    "\n",
    "plt.gca().set_aspect('equal', adjustable='box')\n",
    "\n",
    "# display(df)\n",
    "########################\n",
    "# normalized form\n",
    "plt.figure()\n",
    "temp = scaler.transform(X_data)\n",
    "plt.plot(temp[:,0], temp[:,1], 'mo')\n",
    "\n",
    "m = - model.coef_[0][0] / model.coef_[0][1] \n",
    "c = - model.intercept_[0] / model.coef_[0][1] \n",
    "\n",
    "xx = np.linspace(-2,2)\n",
    "yy = m * xx + c\n",
    "plt.plot(xx, yy, 'b-')\n",
    "\n",
    "plt.xlim(-2,2)\n",
    "plt.ylim(-2,2)\n",
    "\n",
    "plt.gca().set_aspect('equal', adjustable='box')\n",
    "########################\n"
   ]
  },
  {
   "cell_type": "code",
   "execution_count": null,
   "metadata": {
    "collapsed": true
   },
   "outputs": [],
   "source": [
    "\n",
    "\n",
    "\n",
    "\n"
   ]
  },
  {
   "cell_type": "code",
   "execution_count": null,
   "metadata": {
    "collapsed": true
   },
   "outputs": [],
   "source": []
  },
  {
   "cell_type": "code",
   "execution_count": null,
   "metadata": {
    "collapsed": true
   },
   "outputs": [],
   "source": [
    "model.coef_"
   ]
  },
  {
   "cell_type": "code",
   "execution_count": null,
   "metadata": {
    "collapsed": true
   },
   "outputs": [],
   "source": []
  },
  {
   "cell_type": "code",
   "execution_count": 118,
   "metadata": {
    "collapsed": false
   },
   "outputs": [
    {
     "name": "stderr",
     "output_type": "stream",
     "text": [
      "/Users/sidz/anaconda2/lib/python2.7/site-packages/sklearn/svm/base.py:85: DeprecationWarning: gamma=0.0 has been deprecated in favor of gamma='auto' as of 0.17. Backward compatibility for gamma=0.0 will be removed in 0.18\n",
      "  DeprecationWarning)\n"
     ]
    },
    {
     "data": {
      "text/plain": [
       "<matplotlib.colorbar.Colorbar at 0x122df3bd0>"
      ]
     },
     "execution_count": 118,
     "metadata": {},
     "output_type": "execute_result"
    },
    {
     "data": {
      "image/png": "[encoded data removed]",
      "text/plain": [
       "<matplotlib.figure.Figure at 0x120551850>"
      ]
     },
     "metadata": {},
     "output_type": "display_data"
    },
    {
     "data": {
      "image/png": "[encoded data removed]",
      "text/plain": [
       "<matplotlib.figure.Figure at 0x120a6df50>"
      ]
     },
     "metadata": {},
     "output_type": "display_data"
    }
   ],
   "source": [
    "# default svc (non linear), unnormalized under scaling\n",
    "%matplotlib inline\n",
    "np.random.seed(0)\n",
    "scale_fac = 100\n",
    "x0 = np.array([1,2,2,3])*scale_fac\n",
    "y0 = np.array([3,1,2,2])\n",
    "df1 = pd.DataFrame({'x':x0, 'y':y0, 'label':0})\n",
    "\n",
    "x1 = np.array([3,4,5,4])*scale_fac\n",
    "y1 = np.array([0,0,-1,1])\n",
    "df2 = pd.DataFrame({'x':x1, 'y':y1, 'label':1})\n",
    "\n",
    "df = pd.concat([df1,df2])\n",
    "######\n",
    "X_data, y_data = feature_target_split(df,['x','y'],'label')\n",
    "model = svm.SVC(gamma = scale_fac)\n",
    "\n",
    "model.fit(X_data,y_data)\n",
    "# print model.coef_\n",
    "# print model.intercept_\n",
    "\n",
    "plt.plot(x0,y0,'ro')\n",
    "plt.plot(x1,y1,'ko')\n",
    "\n",
    "# m = - model.coef_[0][0] / model.coef_[0][1]\n",
    "# c = - model.intercept_[0] / model.coef_[0][1]\n",
    "\n",
    "xx = np.linspace(0,6*scale_fac)\n",
    "# yy = m* scale_fac* xx + c\n",
    "\n",
    "# plt.plot(xx, yy, 'b-')\n",
    "plt.xlim(-1, 6* scale_fac)\n",
    "plt.ylim(-1, 6)\n",
    "plt.gca().set_aspect('equal', adjustable='box')\n",
    "\n",
    "\n",
    "##### plotting result\n",
    "\n",
    "nxxx, nyyy = (30, 30)\n",
    "xxx = np.linspace(-2, 600, nxxx)\n",
    "yyy = np.linspace(-2, 6, nyyy)\n",
    "xxx_mesh, yyy_mesh = np.meshgrid(xxx, yyy)\n",
    "\n",
    "result = np.zeros((nxxx, nyyy))\n",
    "for i in range(len(xxx_mesh)):\n",
    "    for j in range(len(yyy_mesh)):\n",
    "      if model.decision_function([[xxx_mesh[i][j], yyy_mesh[i][j]]])[0] > 0:\n",
    "        result[i][j] = 1\n",
    "      elif model.decision_function([[xxx_mesh[i][j], yyy_mesh[i][j]]])[0] == 0:\n",
    "        result[i][j] = 0\n",
    "      else:\n",
    "        result[i][j] = -1\n",
    "#       result[i][j] = model.decision_function([[xxx_mesh[i][j], yyy_mesh[i][j]]])[0]\n",
    "#         print [xxx_mesh[i][j], yyy_mesh[i][j]]\n",
    "\n",
    "plt.figure()\n",
    "plt.plot(x0,y0,'ro')\n",
    "plt.plot(x1,y1,'bo')\n",
    "plt.pcolor(xxx_mesh, yyy_mesh, result)\n",
    "plt.colorbar()\n"
   ]
  },
  {
   "cell_type": "code",
   "execution_count": 115,
   "metadata": {
    "collapsed": false
   },
   "outputs": [
    {
     "data": {
      "text/plain": [
       "<matplotlib.colorbar.Colorbar at 0x12267e9d0>"
      ]
     },
     "execution_count": 115,
     "metadata": {},
     "output_type": "execute_result"
    },
    {
     "data": {
      "image/png": "[encoded data removed]",
      "text/plain": [
       "<matplotlib.figure.Figure at 0x11f83af90>"
      ]
     },
     "metadata": {},
     "output_type": "display_data"
    },
    {
     "data": {
      "image/png": "[encoded data removed]",
      "text/plain": [
       "<matplotlib.figure.Figure at 0x1223d7910>"
      ]
     },
     "metadata": {},
     "output_type": "display_data"
    }
   ],
   "source": [
    "# default svc (non linear), unnormalized under translation\n",
    "%matplotlib inline\n",
    "np.random.seed(0)\n",
    "scale_fac = 10000\n",
    "x0 = np.array([1,2,2,3])+scale_fac\n",
    "y0 = np.array([3,1,2,2])\n",
    "df1 = pd.DataFrame({'x':x0, 'y':y0, 'label':0})\n",
    "\n",
    "x1 = np.array([3,4,5,4])+scale_fac\n",
    "y1 = np.array([0,0,-1,1])\n",
    "df2 = pd.DataFrame({'x':x1, 'y':y1, 'label':1})\n",
    "\n",
    "df = pd.concat([df1,df2])\n",
    "######\n",
    "X_data, y_data = feature_target_split(df,['x','y'],'label')\n",
    "model = svm.SVC()\n",
    "\n",
    "model.fit(X_data,y_data)\n",
    "# print model.coef_\n",
    "# print model.intercept_\n",
    "\n",
    "plt.plot(x0,y0,'ro')\n",
    "plt.plot(x1,y1,'ko')\n",
    "\n",
    "# m = - model.coef_[0][0] / model.coef_[0][1]\n",
    "# c = - model.intercept_[0] / model.coef_[0][1]\n",
    "\n",
    "xx = np.linspace(0,6+scale_fac)\n",
    "# yy = m* scale_fac* xx + c\n",
    "\n",
    "# plt.plot(xx, yy, 'b-')\n",
    "plt.xlim(-1+scale_fac, 6+scale_fac)\n",
    "plt.ylim(-1, 6)\n",
    "plt.gca().set_aspect('equal', adjustable='box')\n",
    "\n",
    "\n",
    "# ##### plotting result\n",
    "\n",
    "nxxx, nyyy = (30, 30)\n",
    "xxx = np.linspace(-2+scale_fac, 6+scale_fac, nxxx)\n",
    "yyy = np.linspace(-2, 6, nyyy)\n",
    "xxx_mesh, yyy_mesh = np.meshgrid(xxx, yyy)\n",
    "\n",
    "result = np.zeros((nxxx, nyyy))\n",
    "for i in range(len(xxx_mesh)):\n",
    "    for j in range(len(yyy_mesh)):\n",
    "      if model.decision_function([[xxx_mesh[i][j], yyy_mesh[i][j]]])[0] > 0:\n",
    "        result[i][j] = 1\n",
    "      elif model.decision_function([[xxx_mesh[i][j], yyy_mesh[i][j]]])[0] == 0:\n",
    "        result[i][j] = 0\n",
    "      else:\n",
    "        result[i][j] = -1\n",
    "#       result[i][j] = model.decision_function([[xxx_mesh[i][j], yyy_mesh[i][j]]])[0]\n",
    "#         print [xxx_mesh[i][j], yyy_mesh[i][j]]\n",
    "\n",
    "plt.figure()\n",
    "plt.plot(x0,y0,'ro')\n",
    "plt.plot(x1,y1,'bo')\n",
    "plt.pcolor(xxx_mesh, yyy_mesh, result)\n",
    "plt.colorbar()\n"
   ]
  }
 ],
 "metadata": {
  "anaconda-cloud": {},
  "kernelspec": {
   "display_name": "Python [Root]",
   "language": "python",
   "name": "Python [Root]"
  },
  "language_info": {
   "codemirror_mode": {
    "name": "ipython",
    "version": 2
   },
   "file_extension": ".py",
   "mimetype": "text/x-python",
   "name": "python",
   "nbconvert_exporter": "python",
   "pygments_lexer": "ipython2",
   "version": "2.7.11"
  }
 },
 "nbformat": 4,
 "nbformat_minor": 0
}
