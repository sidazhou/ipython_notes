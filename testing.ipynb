{
 "cells": [
  {
   "cell_type": "code",
   "execution_count": 1,
   "metadata": {
    "collapsed": false
   },
   "outputs": [],
   "source": [
    "import pandas as pd\n",
    "import numpy as np\n",
    "import matplotlib.pyplot as plt\n",
    "import seaborn as sns\n",
    "\n",
    "%matplotlib inline\n",
    "\n",
    "plt.style.use('seaborn-bright')\n",
    "\n",
    "import pickle\n",
    "from sklearn.linear_model import Ridge, Lasso\n",
    "from IPython.display import display\n",
    "%load_ext memory_profiler\n",
    "%load_ext line_profiler"
   ]
  },
  {
   "cell_type": "code",
   "execution_count": null,
   "metadata": {
    "collapsed": false,
    "scrolled": false
   },
   "outputs": [],
   "source": [
    "# not in notes (!)\n",
    "df = pd.DataFrame(np.ones(50).reshape(10,5), \n",
    "                      index=pd.date_range('1/1/2016', periods=10, freq='H' ),\n",
    "                      columns=list('ABCDE'))\n",
    "df['size']=0\n",
    "df['size'] = pd.Series([0,0,0,0,200,0,0,2000,0,0], index=df.index)\n",
    "df.loc[:,\"size_csum\"] = df['size'].cumsum()\n",
    "\n",
    "start = pd.to_datetime('1/1/1900')\n",
    "df.loc[:,\"size_astime\"] = start + pd.to_timedelta(df.size_csum,'ms')\n",
    "df.index = df.size_astime\n",
    "\n",
    "display(df)\n",
    "print(df.E.resample('1000ms',label='right').sum())\n",
    "\n",
    "# timestamp_col = df.timestamp.resample('30min',label='right').last()\n",
    "\n",
    "# pd.to_datetime(timestamp_col).dropna()\n",
    "\n",
    "# after going around the circle, the workaround has to be applying an extra operation:\n",
    "# `pd.to_datetime(timestamp_col).dropna()`\n",
    "\n",
    "# df"
   ]
  },
  {
   "cell_type": "code",
   "execution_count": null,
   "metadata": {
    "collapsed": false
   },
   "outputs": [],
   "source": [
    "# flattening history for autoregression\n",
    "df = pd.DataFrame({'val': [10,40,30,10,11,12,10,11,12,19]}, index=pd.date_range('2016-01-01 19:00:00', periods=10, freq='H' ) )\n",
    "display(df)\n",
    "def myf(df):\n",
    "    for i in range(1,2):\n",
    "        df['val_t-' + str(i)] = df['val'].shift(i)\n",
    "\n",
    "    for i in range(1,5):\n",
    "        df['d_val_t+' + str(i)] = df['val'].shift(-i) - df['val']\n",
    "\n",
    "    df[['d_val_t+3','d_val_t+4']].mean(axis=1)\n",
    "    return df\n",
    "\n",
    "df.groupby(pd.TimeGrouper('D')).apply(myf)"
   ]
  },
  {
   "cell_type": "code",
   "execution_count": 23,
   "metadata": {
    "collapsed": false,
    "scrolled": true
   },
   "outputs": [
    {
     "name": "stdout",
     "output_type": "stream",
     "text": [
      "Automatic pdb calling has been turned OFF\n",
      "{'alpha': 0.1, 'cv': 'hep'}\n"
     ]
    },
    {
     "ename": "TypeError",
     "evalue": "__init__() got an unexpected keyword argument 'cv'",
     "output_type": "error",
     "traceback": [
      "\u001b[0;31m---------------------------------------------------------------------------\u001b[0m",
      "\u001b[0;31mTypeError\u001b[0m                                 Traceback (most recent call last)",
      "\u001b[0;32m<ipython-input-23-feb5e1728e32>\u001b[0m in \u001b[0;36m<module>\u001b[0;34m()\u001b[0m\n\u001b[1;32m     11\u001b[0m \u001b[0;34m\u001b[0m\u001b[0m\n\u001b[1;32m     12\u001b[0m \u001b[0mmy_model\u001b[0m \u001b[0;34m=\u001b[0m \u001b[0mRidge\u001b[0m\u001b[0;34m\u001b[0m\u001b[0m\n\u001b[0;32m---> 13\u001b[0;31m \u001b[0mres\u001b[0m \u001b[0;34m=\u001b[0m \u001b[0mmyf\u001b[0m\u001b[0;34m(\u001b[0m\u001b[0mmy_model\u001b[0m\u001b[0;34m,\u001b[0m \u001b[0malpha\u001b[0m\u001b[0;34m=\u001b[0m\u001b[0;36m0.1\u001b[0m\u001b[0;34m)\u001b[0m\u001b[0;34m\u001b[0m\u001b[0m\n\u001b[0m\u001b[1;32m     14\u001b[0m \u001b[0;32mprint\u001b[0m \u001b[0mres\u001b[0m\u001b[0;34m.\u001b[0m\u001b[0mcoef_\u001b[0m\u001b[0;34m\u001b[0m\u001b[0m\n\u001b[1;32m     15\u001b[0m \u001b[0;34m\u001b[0m\u001b[0m\n",
      "\u001b[0;32m<ipython-input-23-feb5e1728e32>\u001b[0m in \u001b[0;36mmyf\u001b[0;34m(lm, **args)\u001b[0m\n\u001b[1;32m      3\u001b[0m     \u001b[0margs\u001b[0m\u001b[0;34m[\u001b[0m\u001b[0;34m'cv'\u001b[0m\u001b[0;34m]\u001b[0m \u001b[0;34m=\u001b[0m \u001b[0;34m'hep'\u001b[0m\u001b[0;34m\u001b[0m\u001b[0m\n\u001b[1;32m      4\u001b[0m     \u001b[0;32mprint\u001b[0m \u001b[0margs\u001b[0m\u001b[0;34m\u001b[0m\u001b[0m\n\u001b[0;32m----> 5\u001b[0;31m     \u001b[0mmodel\u001b[0m \u001b[0;34m=\u001b[0m \u001b[0mlm\u001b[0m\u001b[0;34m(\u001b[0m\u001b[0;34m**\u001b[0m\u001b[0margs\u001b[0m\u001b[0;34m)\u001b[0m\u001b[0;34m\u001b[0m\u001b[0m\n\u001b[0m\u001b[1;32m      6\u001b[0m     \u001b[0mX_train\u001b[0m \u001b[0;34m=\u001b[0m \u001b[0;34m[\u001b[0m\u001b[0;34m[\u001b[0m\u001b[0;36m1\u001b[0m\u001b[0;34m,\u001b[0m\u001b[0;36m2\u001b[0m\u001b[0;34m,\u001b[0m\u001b[0;36m2\u001b[0m\u001b[0;34m]\u001b[0m\u001b[0;34m,\u001b[0m\u001b[0;34m[\u001b[0m\u001b[0;36m3\u001b[0m\u001b[0;34m,\u001b[0m\u001b[0;36m4\u001b[0m\u001b[0;34m,\u001b[0m\u001b[0;36m4\u001b[0m\u001b[0;34m]\u001b[0m\u001b[0;34m]\u001b[0m\u001b[0;34m\u001b[0m\u001b[0m\n\u001b[1;32m      7\u001b[0m     \u001b[0my_train\u001b[0m \u001b[0;34m=\u001b[0m \u001b[0;34m[\u001b[0m\u001b[0;36m100\u001b[0m\u001b[0;34m,\u001b[0m\u001b[0;36m200\u001b[0m\u001b[0;34m]\u001b[0m\u001b[0;34m\u001b[0m\u001b[0m\n",
      "\u001b[0;31mTypeError\u001b[0m: __init__() got an unexpected keyword argument 'cv'"
     ]
    }
   ],
   "source": [
    "%pdb off\n",
    "def myf(lm, **args):\n",
    "    args['cv'] = 'hep'\n",
    "    print args\n",
    "    model = lm(**args)\n",
    "    X_train = [[1,2,2],[3,4,4]]\n",
    "    y_train = [100,200]\n",
    "    \n",
    "    result = model.fit(X_train, y_train)  \n",
    "    return result\n",
    "\n",
    "my_model = Ridge\n",
    "res = myf(my_model, alpha=0.1)\n",
    "print res.coef_\n",
    "\n",
    "my_model = Lasso\n",
    "res = myf(my_model)\n",
    "print res.coef_"
   ]
  },
  {
   "cell_type": "code",
   "execution_count": null,
   "metadata": {
    "collapsed": true
   },
   "outputs": [],
   "source": []
  }
 ],
 "metadata": {
  "anaconda-cloud": {},
  "kernelspec": {
   "display_name": "Python [Root]",
   "language": "python",
   "name": "Python [Root]"
  },
  "language_info": {
   "codemirror_mode": {
    "name": "ipython",
    "version": 2
   },
   "file_extension": ".py",
   "mimetype": "text/x-python",
   "name": "python",
   "nbconvert_exporter": "python",
   "pygments_lexer": "ipython2",
   "version": "2.7.11"
  }
 },
 "nbformat": 4,
 "nbformat_minor": 0
}
