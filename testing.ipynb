{
 "cells": [
  {
   "cell_type": "code",
   "execution_count": 2,
   "metadata": {
    "collapsed": false
   },
   "outputs": [
    {
     "name": "stdout",
     "output_type": "stream",
     "text": [
      "The memory_profiler extension is already loaded. To reload it, use:\n",
      "  %reload_ext memory_profiler\n",
      "The line_profiler extension is already loaded. To reload it, use:\n",
      "  %reload_ext line_profiler\n"
     ]
    }
   ],
   "source": [
    "import pandas as pd\n",
    "import numpy as np\n",
    "import matplotlib.pyplot as plt\n",
    "import seaborn as sns\n",
    "\n",
    "%matplotlib inline\n",
    "\n",
    "plt.style.use('seaborn-bright')\n",
    "\n",
    "import pickle\n",
    "from sklearn import linear_model\n",
    "from sklearn import svm\n",
    "from sklearn import metrics\n",
    "\n",
    "from IPython.display import display\n",
    "%load_ext memory_profiler\n",
    "%load_ext line_profiler"
   ]
  },
  {
   "cell_type": "code",
   "execution_count": 4,
   "metadata": {
    "collapsed": true
   },
   "outputs": [],
   "source": [
    "def train_test_split(dataX, datay, proportion_train = .75):\n",
    "    train_cutoff = int(np.floor(proportion_train*len(dataX)))\n",
    "\n",
    "    X_train = dataX[:train_cutoff]\n",
    "    X_test  = dataX[train_cutoff:]\n",
    "\n",
    "    y_train = datay[:train_cutoff]\n",
    "    y_test  = datay[train_cutoff:]\n",
    "\n",
    "    return X_train, y_train, X_test, y_test\n",
    "\n",
    "def feature_target_split(df,feature_names, target_name):\n",
    "    X_data = df[feature_names].as_matrix()\n",
    "    y_data = df[target_name].as_matrix()\n",
    "    return X_data, y_data"
   ]
  },
  {
   "cell_type": "code",
   "execution_count": 17,
   "metadata": {
    "collapsed": false
   },
   "outputs": [
    {
     "name": "stdout",
     "output_type": "stream",
     "text": [
      "[[ 5.22438027  5.69746879]]\n",
      "[-1.34873321]\n"
     ]
    },
    {
     "data": {
      "image/png": "[encoded data removed]",
      "text/plain": [
       "<matplotlib.figure.Figure at 0x11d733b10>"
      ]
     },
     "metadata": {},
     "output_type": "display_data"
    }
   ],
   "source": [
    "# plotting the decision boundary of logistic regression\n",
    "np.random.seed(0)\n",
    "mu, sigma = 0, 0.1 # mean and standard deviation\n",
    "x0 = np.random.normal(mu, sigma, 500)\n",
    "y0 = np.random.normal(mu, sigma, 500)\n",
    "\n",
    "df1 = pd.DataFrame({'x':x0, 'y':y0, 'label':0})\n",
    "\n",
    "mu, sigma = 0.25, 0.1 # mean and standard deviation\n",
    "x1 = np.random.normal(mu, sigma, 500)\n",
    "y1 = np.random.normal(mu, sigma, 500)\n",
    "\n",
    "df2 = pd.DataFrame({'x':x1, 'y':y1, 'label':1})\n",
    "\n",
    "df = pd.concat([df1,df2])\n",
    "df\n",
    "######\n",
    "X_data, y_data = feature_target_split(df,['x','y'],'label')\n",
    "model = svm.LinearSVC()\n",
    "model.fit(X_data,y_data)\n",
    "print model.coef_\n",
    "print model.intercept_\n",
    "\n",
    "plt.plot(x0,y0,'r.')\n",
    "plt.plot(x1,y1,'k.')\n",
    "\n",
    "m = - model.coef_[0][0] / model.coef_[0][1]\n",
    "c = - model.intercept_[0] / model.coef_[0][1]\n",
    "\n",
    "xx = np.linspace(-.3, .7)\n",
    "yy = m * xx + c\n",
    "\n",
    "plt.plot(xx, yy, 'b-')\n",
    "plt.xlim(-.6, .6)\n",
    "plt.ylim(-.6, .6)\n",
    "plt.gca().set_aspect('equal', adjustable='box')"
   ]
  },
  {
   "cell_type": "code",
   "execution_count": null,
   "metadata": {
    "collapsed": true
   },
   "outputs": [],
   "source": []
  },
  {
   "cell_type": "code",
   "execution_count": null,
   "metadata": {
    "collapsed": true
   },
   "outputs": [],
   "source": []
  },
  {
   "cell_type": "code",
   "execution_count": null,
   "metadata": {
    "collapsed": true
   },
   "outputs": [],
   "source": []
  }
 ],
 "metadata": {
  "anaconda-cloud": {},
  "kernelspec": {
   "display_name": "Python [Root]",
   "language": "python",
   "name": "Python [Root]"
  },
  "language_info": {
   "codemirror_mode": {
    "name": "ipython",
    "version": 2
   },
   "file_extension": ".py",
   "mimetype": "text/x-python",
   "name": "python",
   "nbconvert_exporter": "python",
   "pygments_lexer": "ipython2",
   "version": "2.7.11"
  }
 },
 "nbformat": 4,
 "nbformat_minor": 0
}
