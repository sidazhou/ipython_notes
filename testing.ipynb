{
 "cells": [
  {
   "cell_type": "code",
   "execution_count": 342,
   "metadata": {
    "collapsed": false
   },
   "outputs": [
    {
     "name": "stdout",
     "output_type": "stream",
     "text": [
      "The memory_profiler extension is already loaded. To reload it, use:\n",
      "  %reload_ext memory_profiler\n",
      "The line_profiler extension is already loaded. To reload it, use:\n",
      "  %reload_ext line_profiler\n"
     ]
    }
   ],
   "source": [
    "import pandas as pd\n",
    "import numpy as np\n",
    "import matplotlib.pyplot as plt\n",
    "import seaborn as sns\n",
    "\n",
    "%matplotlib inline\n",
    "\n",
    "plt.style.use('seaborn-bright')\n",
    "from collections import Counter\n",
    "import pickle\n",
    "from sklearn import linear_model\n",
    "from sklearn import svm\n",
    "from sklearn import metrics\n",
    "from sklearn import preprocessing\n",
    "\n",
    "from IPython.display import display\n",
    "%load_ext memory_profiler\n",
    "%load_ext line_profiler"
   ]
  },
  {
   "cell_type": "code",
   "execution_count": 2,
   "metadata": {
    "collapsed": true
   },
   "outputs": [],
   "source": [
    "def train_test_split(dataX, datay, proportion_train = .75):\n",
    "    train_cutoff = int(np.floor(proportion_train*len(dataX)))\n",
    "\n",
    "    X_train = dataX[:train_cutoff]\n",
    "    X_test  = dataX[train_cutoff:]\n",
    "\n",
    "    y_train = datay[:train_cutoff]\n",
    "    y_test  = datay[train_cutoff:]\n",
    "\n",
    "    return X_train, y_train, X_test, y_test\n",
    "\n",
    "def feature_target_split(df,feature_names, target_name):\n",
    "    X_data = df[feature_names].as_matrix()\n",
    "    y_data = df[target_name].as_matrix()\n",
    "    return X_data, y_data"
   ]
  },
  {
   "cell_type": "code",
   "execution_count": 135,
   "metadata": {
    "collapsed": false
   },
   "outputs": [
    {
     "data": {
      "text/plain": [
       "<matplotlib.colorbar.Colorbar at 0x128e2df50>"
      ]
     },
     "execution_count": 135,
     "metadata": {},
     "output_type": "execute_result"
    },
    {
     "data": {
      "image/png": "[encoded data removed]",
      "text/plain": [
       "<matplotlib.figure.Figure at 0x12571b8d0>"
      ]
     },
     "metadata": {},
     "output_type": "display_data"
    },
    {
     "data": {
      "image/png": "[encoded data removed]",
      "text/plain": [
       "<matplotlib.figure.Figure at 0x1289e3cd0>"
      ]
     },
     "metadata": {},
     "output_type": "display_data"
    }
   ],
   "source": [
    "# effect of standardization / normalization to the decision boundary for LogisticRegression and SVM\n",
    "np.random.seed(0)\n",
    "\n",
    "# adjust these\n",
    "scale_fac = 1\n",
    "tranlation_fac = 0\n",
    "\n",
    "x0 = np.array([1,2,2,3])*scale_fac + tranlation_fac\n",
    "y0 = np.array([3,1,2,2]).astype(float)\n",
    "df1 = pd.DataFrame({'x':x0, 'y':y0, 'label':0})\n",
    "\n",
    "x1 = np.array([3,4,3,4])*scale_fac + tranlation_fac\n",
    "y1 = np.array([0,0,-1,1]).astype(float)\n",
    "df2 = pd.DataFrame({'x':x1, 'y':y1, 'label':1})\n",
    "\n",
    "x2 = np.array([0,1,0])*scale_fac + tranlation_fac\n",
    "y2 = np.array([0,0,1]).astype(float)\n",
    "df3 = pd.DataFrame({'x':x2, 'y':y2, 'label':2})\n",
    "\n",
    "df = pd.concat([df1,df2,df3])\n",
    "######\n",
    "X_data, y_data = feature_target_split(df,['x','y'],'label')\n",
    "\n",
    "scaler = preprocessing.StandardScaler().fit(X_data)\n",
    "\n",
    "# model = linear_model.LogisticRegression()\n",
    "# model = svm.LinearSVC()\n",
    "model = svm.SVC()\n",
    "\n",
    "# correct version:\n",
    "model.fit(scaler.transform(X_data),y_data)\n",
    "\n",
    "# # incorrect version:\n",
    "# model.fit(X_data,y_data)\n",
    "# coef_ = model.coef_\n",
    "# intercept_ = model.intercept_\n",
    "\n",
    "plt.plot(x0,y0,'ro')\n",
    "plt.plot(x1,y1,'ko')\n",
    "plt.plot(x2,y2,'bo')\n",
    "\n",
    "xx = np.linspace(-10,60)\n",
    "yy = m * xx + c\n",
    "\n",
    "plt.plot(xx, yy, 'b-')\n",
    "plt.xlim(-1 + tranlation_fac, 5*scale_fac + tranlation_fac)\n",
    "plt.ylim(-1, 5)\n",
    "\n",
    "plt.gca().set_aspect('equal', adjustable='box')\n",
    "\n",
    "########################\n",
    "# normalized form\n",
    "plt.figure()\n",
    "temp = scaler.transform(X_data)\n",
    "plt.plot(temp[:,0], temp[:,1], 'mo')\n",
    "\n",
    "plt.gca().set_aspect('equal', adjustable='box')\n",
    "\n",
    "# class regions\n",
    "nxxx, nyyy = (50, 50)\n",
    "xxx = np.linspace(-2, 2, nxxx)\n",
    "yyy = np.linspace(-2, 2, nyyy)\n",
    "xxx_mesh, yyy_mesh = np.meshgrid(xxx, yyy)\n",
    "\n",
    "result = np.zeros((nxxx, nyyy))\n",
    "for i in range(len(xxx_mesh)):\n",
    "    for j in range(len(yyy_mesh)):\n",
    "        result[i][j] = model.predict([[xxx_mesh[i][j], yyy_mesh[i][j]]])[0]\n",
    "plt.pcolor(xxx_mesh, yyy_mesh, result)\n",
    "plt.colorbar()\n",
    "########################\n"
   ]
  },
  {
   "cell_type": "code",
   "execution_count": 192,
   "metadata": {
    "collapsed": false
   },
   "outputs": [
    {
     "data": {
      "text/plain": [
       "GridSearchCV(cv=None, error_score='raise',\n",
       "       estimator=LinearSVC(C=1.0, class_weight=None, dual=True, fit_intercept=True,\n",
       "     intercept_scaling=1, loss='squared_hinge', max_iter=1000,\n",
       "     multi_class='ovr', penalty='l2', random_state=None, tol=0.0001,\n",
       "     verbose=0),\n",
       "       fit_params={}, iid=True, n_jobs=1,\n",
       "       param_grid={'C': array([  1.00000e-04,   7.74264e-04,   5.99484e-03,   4.64159e-02,\n",
       "         3.59381e-01,   2.78256e+00,   2.15443e+01,   1.66810e+02,\n",
       "         1.29155e+03,   1.00000e+04])},\n",
       "       pre_dispatch='2*n_jobs', refit=True, scoring=None, verbose=0)"
      ]
     },
     "execution_count": 192,
     "metadata": {},
     "output_type": "execute_result"
    }
   ],
   "source": [
    "from sklearn import svm, grid_search, datasets\n",
    "\n",
    "iris = datasets.load_iris()\n",
    "\n",
    "\n",
    "parameters = {'C':np.logspace(-4, 4, 10)}\n",
    "\n",
    "grid = grid_search.GridSearchCV(svm.LinearSVC(), parameters)\n",
    "\n",
    "\n",
    "grid.fit(iris.data, iris.target)"
   ]
  },
  {
   "cell_type": "code",
   "execution_count": 193,
   "metadata": {
    "collapsed": false
   },
   "outputs": [
    {
     "name": "stderr",
     "output_type": "stream",
     "text": [
      "/Users/sidz/anaconda2/lib/python2.7/site-packages/sklearn/utils/validation.py:386: DeprecationWarning: Passing 1d arrays as data is deprecated in 0.17 and willraise ValueError in 0.19. Reshape your data either using X.reshape(-1, 1) if your data has a single feature or X.reshape(1, -1) if it contains a single sample.\n",
      "  DeprecationWarning)\n"
     ]
    },
    {
     "data": {
      "text/plain": [
       "array([0])"
      ]
     },
     "execution_count": 193,
     "metadata": {},
     "output_type": "execute_result"
    }
   ],
   "source": [
    "grid.predict([ 5.2,  3.4,  1.4,  0.2])"
   ]
  },
  {
   "cell_type": "code",
   "execution_count": 195,
   "metadata": {
    "collapsed": false
   },
   "outputs": [
    {
     "data": {
      "text/plain": [
       "array([[ 0.24467024,  0.43738181, -0.90875681, -0.56240285],\n",
       "       [ 0.01644724, -0.95023925,  0.45240627, -1.00519227],\n",
       "       [-0.87812974, -1.10666829,  1.55494724,  2.25510032]])"
      ]
     },
     "execution_count": 195,
     "metadata": {},
     "output_type": "execute_result"
    }
   ],
   "source": [
    "grid.best_estimator_.coef_\n"
   ]
  },
  {
   "cell_type": "code",
   "execution_count": 321,
   "metadata": {
    "collapsed": false
   },
   "outputs": [
    {
     "data": {
      "text/plain": [
       "<Container object of 2 artists>"
      ]
     },
     "execution_count": 321,
     "metadata": {},
     "output_type": "execute_result"
    },
    {
     "data": {
      "image/png": "[encoded data removed]",
      "text/plain": [
       "<matplotlib.figure.Figure at 0x125539cd0>"
      ]
     },
     "metadata": {},
     "output_type": "display_data"
    }
   ],
   "source": [
    "plt.bar(np.arange(len([1,2])),[1,2])"
   ]
  },
  {
   "cell_type": "code",
   "execution_count": 329,
   "metadata": {
    "collapsed": false
   },
   "outputs": [
    {
     "name": "stdout",
     "output_type": "stream",
     "text": [
      "0\n",
      "10\n",
      "20\n",
      "30\n",
      "40\n",
      "50\n",
      "60\n",
      "70\n",
      "80\n",
      "90\n",
      "100\n"
     ]
    }
   ],
   "source": [
    "for i in range(0,110, 10):\n",
    "    print i"
   ]
  },
  {
   "cell_type": "code",
   "execution_count": 341,
   "metadata": {
    "collapsed": false
   },
   "outputs": [
    {
     "data": {
      "text/html": [
       "<div>\n",
       "<table border=\"1\" class=\"dataframe\">\n",
       "  <thead>\n",
       "    <tr style=\"text-align: right;\">\n",
       "      <th></th>\n",
       "      <th>sd</th>\n",
       "    </tr>\n",
       "  </thead>\n",
       "  <tbody>\n",
       "    <tr>\n",
       "      <th>1</th>\n",
       "      <td>2</td>\n",
       "    </tr>\n",
       "    <tr>\n",
       "      <th>2</th>\n",
       "      <td>3</td>\n",
       "    </tr>\n",
       "    <tr>\n",
       "      <th>3</th>\n",
       "      <td>4</td>\n",
       "    </tr>\n",
       "  </tbody>\n",
       "</table>\n",
       "</div>"
      ],
      "text/plain": [
       "   sd\n",
       "1   2\n",
       "2   3\n",
       "3   4"
      ]
     },
     "execution_count": 341,
     "metadata": {},
     "output_type": "execute_result"
    }
   ],
   "source": [
    "q1=pd.DataFrame(data=[2,3,4], index=[1,2,3], columns=['sd'])\n",
    "q2=pd.DataFrame()\n",
    "pd.concat([q1,q2,q2])"
   ]
  },
  {
   "cell_type": "code",
   "execution_count": 357,
   "metadata": {
    "collapsed": false
   },
   "outputs": [
    {
     "data": {
      "text/plain": [
       "False"
      ]
     },
     "execution_count": 357,
     "metadata": {},
     "output_type": "execute_result"
    }
   ],
   "source": [
    "all(isinstance(elem, list) for elem in [2,3])"
   ]
  }
 ],
 "metadata": {
  "anaconda-cloud": {},
  "kernelspec": {
   "display_name": "Python [Root]",
   "language": "python",
   "name": "Python [Root]"
  },
  "language_info": {
   "codemirror_mode": {
    "name": "ipython",
    "version": 2
   },
   "file_extension": ".py",
   "mimetype": "text/x-python",
   "name": "python",
   "nbconvert_exporter": "python",
   "pygments_lexer": "ipython2",
   "version": "2.7.11"
  }
 },
 "nbformat": 4,
 "nbformat_minor": 0
}
