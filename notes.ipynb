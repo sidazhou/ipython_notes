{
 "cells": [
  {
   "cell_type": "markdown",
   "metadata": {},
   "source": [
    "https://gist.github.com/bsweger/e5817488d161f37dcbd2\n",
    "\n",
    "http://stackoverflow.com/questions/20250689/plotting-a-large-number-of-points-using-matplotlib-and-running-out-of-memory\n",
    "\n",
    "http://stackoverflow.com/questions/19092812/measure-max-memory-usage-with-ipython-like-timeit-but-memit"
   ]
  },
  {
   "cell_type": "code",
   "execution_count": 2,
   "metadata": {
    "collapsed": false
   },
   "outputs": [],
   "source": [
    "import pandas as pd\n",
    "import numpy as np\n",
    "import matplotlib.pyplot as plt\n",
    "import seaborn as sns\n",
    "\n",
    "# %matplotlib notebook\n",
    "%matplotlib inline \n",
    "plt.style.use('seaborn-bright')\n",
    "\n",
    "import pickle\n",
    "from IPython.display import display\n",
    "\n",
    "%load_ext memory_profiler"
   ]
  },
  {
   "cell_type": "code",
   "execution_count": 25,
   "metadata": {
    "collapsed": false
   },
   "outputs": [
    {
     "data": {
      "text/html": [
       "<div>\n",
       "<table border=\"1\" class=\"dataframe\">\n",
       "  <thead>\n",
       "    <tr style=\"text-align: right;\">\n",
       "      <th></th>\n",
       "      <th>type</th>\n",
       "      <th>v</th>\n",
       "    </tr>\n",
       "    <tr>\n",
       "      <th>k</th>\n",
       "      <th></th>\n",
       "      <th></th>\n",
       "    </tr>\n",
       "  </thead>\n",
       "  <tbody>\n",
       "    <tr>\n",
       "      <th>1</th>\n",
       "      <td>0</td>\n",
       "      <td>10</td>\n",
       "    </tr>\n",
       "    <tr>\n",
       "      <th>2</th>\n",
       "      <td>2</td>\n",
       "      <td>30</td>\n",
       "    </tr>\n",
       "    <tr>\n",
       "      <th>3</th>\n",
       "      <td>2</td>\n",
       "      <td>11</td>\n",
       "    </tr>\n",
       "  </tbody>\n",
       "</table>\n",
       "</div>"
      ],
      "text/plain": [
       "   type   v\n",
       "k          \n",
       "1     0  10\n",
       "2     2  30\n",
       "3     2  11"
      ]
     },
     "metadata": {},
     "output_type": "display_data"
    },
    {
     "data": {
      "text/html": [
       "<div>\n",
       "<table border=\"1\" class=\"dataframe\">\n",
       "  <thead>\n",
       "    <tr style=\"text-align: right;\">\n",
       "      <th></th>\n",
       "      <th>type</th>\n",
       "      <th>v</th>\n",
       "    </tr>\n",
       "    <tr>\n",
       "      <th>k</th>\n",
       "      <th></th>\n",
       "      <th></th>\n",
       "    </tr>\n",
       "  </thead>\n",
       "  <tbody>\n",
       "    <tr>\n",
       "      <th>1</th>\n",
       "      <td>0</td>\n",
       "      <td>10</td>\n",
       "    </tr>\n",
       "    <tr>\n",
       "      <th>2</th>\n",
       "      <td>2</td>\n",
       "      <td>30</td>\n",
       "    </tr>\n",
       "    <tr>\n",
       "      <th>3</th>\n",
       "      <td>2</td>\n",
       "      <td>11</td>\n",
       "    </tr>\n",
       "  </tbody>\n",
       "</table>\n",
       "</div>"
      ],
      "text/plain": [
       "   type   v\n",
       "k          \n",
       "1     0  10\n",
       "2     2  30\n",
       "3     2  11"
      ]
     },
     "metadata": {},
     "output_type": "display_data"
    },
    {
     "name": "stdout",
     "output_type": "stream",
     "text": [
      "peak memory: 72.09 MiB, increment: 1.43 MiB\n",
      "CPU times: user 124 ms, sys: 202 ms, total: 325 ms\n",
      "Wall time: 527 ms\n"
     ]
    }
   ],
   "source": [
    "%%time \n",
    "%%memit pass\n",
    "\n",
    "# custom groupby\n",
    "df = pd.DataFrame({'k': [1,1,2,2,3,3,3], 'v': [10,20,40,30,10,11,12], 'type':[0,0,0,2,0,2,2]})\n",
    "df.index = df.k\n",
    "df = df.drop('k',1)\n",
    "\n",
    "def myf(df):\n",
    "    temp_df = df.loc[df['type'] == 2]\n",
    "    if temp_df.empty:\n",
    "        return df.iloc[0] # [0:1]\n",
    "    else:\n",
    "        return temp_df.iloc[0]\n",
    "\n",
    "df = df.groupby(df.index).apply(myf) \n",
    "\n",
    "display(df)"
   ]
  },
  {
   "cell_type": "code",
   "execution_count": 26,
   "metadata": {
    "collapsed": false
   },
   "outputs": [
    {
     "data": {
      "text/html": [
       "<div>\n",
       "<table border=\"1\" class=\"dataframe\">\n",
       "  <thead>\n",
       "    <tr style=\"text-align: right;\">\n",
       "      <th></th>\n",
       "      <th>k</th>\n",
       "      <th>price</th>\n",
       "      <th>size</th>\n",
       "      <th>type</th>\n",
       "    </tr>\n",
       "  </thead>\n",
       "  <tbody>\n",
       "    <tr>\n",
       "      <th>0</th>\n",
       "      <td>1</td>\n",
       "      <td>1.0</td>\n",
       "      <td>10</td>\n",
       "      <td>0</td>\n",
       "    </tr>\n",
       "    <tr>\n",
       "      <th>1</th>\n",
       "      <td>1</td>\n",
       "      <td>2.0</td>\n",
       "      <td>20</td>\n",
       "      <td>0</td>\n",
       "    </tr>\n",
       "    <tr>\n",
       "      <th>2</th>\n",
       "      <td>2</td>\n",
       "      <td>4.0</td>\n",
       "      <td>40</td>\n",
       "      <td>0</td>\n",
       "    </tr>\n",
       "    <tr>\n",
       "      <th>3</th>\n",
       "      <td>2</td>\n",
       "      <td>3.0</td>\n",
       "      <td>30</td>\n",
       "      <td>2</td>\n",
       "    </tr>\n",
       "    <tr>\n",
       "      <th>4</th>\n",
       "      <td>3</td>\n",
       "      <td>1.0</td>\n",
       "      <td>1</td>\n",
       "      <td>0</td>\n",
       "    </tr>\n",
       "    <tr>\n",
       "      <th>5</th>\n",
       "      <td>3</td>\n",
       "      <td>1.1</td>\n",
       "      <td>1</td>\n",
       "      <td>2</td>\n",
       "    </tr>\n",
       "    <tr>\n",
       "      <th>6</th>\n",
       "      <td>3</td>\n",
       "      <td>10.0</td>\n",
       "      <td>10</td>\n",
       "      <td>2</td>\n",
       "    </tr>\n",
       "  </tbody>\n",
       "</table>\n",
       "</div>"
      ],
      "text/plain": [
       "   k  price  size  type\n",
       "0  1    1.0    10     0\n",
       "1  1    2.0    20     0\n",
       "2  2    4.0    40     0\n",
       "3  2    3.0    30     2\n",
       "4  3    1.0     1     0\n",
       "5  3    1.1     1     2\n",
       "6  3   10.0    10     2"
      ]
     },
     "metadata": {},
     "output_type": "display_data"
    },
    {
     "data": {
      "text/html": [
       "<div>\n",
       "<table border=\"1\" class=\"dataframe\">\n",
       "  <thead>\n",
       "    <tr style=\"text-align: right;\">\n",
       "      <th></th>\n",
       "      <th>kp</th>\n",
       "      <th>name</th>\n",
       "      <th>typep</th>\n",
       "    </tr>\n",
       "  </thead>\n",
       "  <tbody>\n",
       "    <tr>\n",
       "      <th>0</th>\n",
       "      <td>1</td>\n",
       "      <td>A</td>\n",
       "      <td>2</td>\n",
       "    </tr>\n",
       "    <tr>\n",
       "      <th>1</th>\n",
       "      <td>2</td>\n",
       "      <td>B</td>\n",
       "      <td>2</td>\n",
       "    </tr>\n",
       "    <tr>\n",
       "      <th>2</th>\n",
       "      <td>3</td>\n",
       "      <td>C</td>\n",
       "      <td>2</td>\n",
       "    </tr>\n",
       "    <tr>\n",
       "      <th>3</th>\n",
       "      <td>4</td>\n",
       "      <td>D</td>\n",
       "      <td>2</td>\n",
       "    </tr>\n",
       "  </tbody>\n",
       "</table>\n",
       "</div>"
      ],
      "text/plain": [
       "   kp name  typep\n",
       "0   1    A      2\n",
       "1   2    B      2\n",
       "2   3    C      2\n",
       "3   4    D      2"
      ]
     },
     "metadata": {},
     "output_type": "display_data"
    },
    {
     "data": {
      "text/html": [
       "<div>\n",
       "<table border=\"1\" class=\"dataframe\">\n",
       "  <thead>\n",
       "    <tr style=\"text-align: right;\">\n",
       "      <th></th>\n",
       "      <th>k</th>\n",
       "      <th>price</th>\n",
       "      <th>size</th>\n",
       "      <th>type</th>\n",
       "      <th>kp</th>\n",
       "      <th>name</th>\n",
       "      <th>typep</th>\n",
       "    </tr>\n",
       "  </thead>\n",
       "  <tbody>\n",
       "    <tr>\n",
       "      <th>0</th>\n",
       "      <td>1</td>\n",
       "      <td>1.0</td>\n",
       "      <td>10</td>\n",
       "      <td>0</td>\n",
       "      <td>NaN</td>\n",
       "      <td>NaN</td>\n",
       "      <td>NaN</td>\n",
       "    </tr>\n",
       "    <tr>\n",
       "      <th>1</th>\n",
       "      <td>1</td>\n",
       "      <td>2.0</td>\n",
       "      <td>20</td>\n",
       "      <td>0</td>\n",
       "      <td>NaN</td>\n",
       "      <td>NaN</td>\n",
       "      <td>NaN</td>\n",
       "    </tr>\n",
       "    <tr>\n",
       "      <th>2</th>\n",
       "      <td>2</td>\n",
       "      <td>4.0</td>\n",
       "      <td>40</td>\n",
       "      <td>0</td>\n",
       "      <td>NaN</td>\n",
       "      <td>NaN</td>\n",
       "      <td>NaN</td>\n",
       "    </tr>\n",
       "    <tr>\n",
       "      <th>3</th>\n",
       "      <td>2</td>\n",
       "      <td>3.0</td>\n",
       "      <td>30</td>\n",
       "      <td>2</td>\n",
       "      <td>2.0</td>\n",
       "      <td>B</td>\n",
       "      <td>2.0</td>\n",
       "    </tr>\n",
       "    <tr>\n",
       "      <th>4</th>\n",
       "      <td>3</td>\n",
       "      <td>1.0</td>\n",
       "      <td>1</td>\n",
       "      <td>0</td>\n",
       "      <td>NaN</td>\n",
       "      <td>NaN</td>\n",
       "      <td>NaN</td>\n",
       "    </tr>\n",
       "    <tr>\n",
       "      <th>5</th>\n",
       "      <td>3</td>\n",
       "      <td>1.1</td>\n",
       "      <td>1</td>\n",
       "      <td>2</td>\n",
       "      <td>3.0</td>\n",
       "      <td>C</td>\n",
       "      <td>2.0</td>\n",
       "    </tr>\n",
       "    <tr>\n",
       "      <th>6</th>\n",
       "      <td>3</td>\n",
       "      <td>10.0</td>\n",
       "      <td>10</td>\n",
       "      <td>2</td>\n",
       "      <td>3.0</td>\n",
       "      <td>C</td>\n",
       "      <td>2.0</td>\n",
       "    </tr>\n",
       "  </tbody>\n",
       "</table>\n",
       "</div>"
      ],
      "text/plain": [
       "   k  price  size  type   kp name  typep\n",
       "0  1    1.0    10     0  NaN  NaN    NaN\n",
       "1  1    2.0    20     0  NaN  NaN    NaN\n",
       "2  2    4.0    40     0  NaN  NaN    NaN\n",
       "3  2    3.0    30     2  2.0    B    2.0\n",
       "4  3    1.0     1     0  NaN  NaN    NaN\n",
       "5  3    1.1     1     2  3.0    C    2.0\n",
       "6  3   10.0    10     2  3.0    C    2.0"
      ]
     },
     "execution_count": 26,
     "metadata": {},
     "output_type": "execute_result"
    }
   ],
   "source": [
    "# merge, sql join on multiple columns\n",
    "\n",
    "df = pd.DataFrame({'k': [1,1,2,2,3,3,3], 'size': [10,20,40,30,1,1,10], 'type':[0,0,0,2,0,2,2], 'price': [1.0,2.0,4.0,3.0,1.0,1.1,10]})\n",
    "display(df)\n",
    "\n",
    "df2 = pd.DataFrame({'kp': [1,2,3,4], 'typep':[2,2,2,2],'name': ['A','B','C','D']})\n",
    "display(df2)\n",
    "\n",
    "df.merge(df2, left_on=['k','type'], right_on=['kp','typep'], how='left')"
   ]
  },
  {
   "cell_type": "code",
   "execution_count": 24,
   "metadata": {
    "collapsed": false
   },
   "outputs": [
    {
     "data": {
      "text/html": [
       "<div>\n",
       "<table border=\"1\" class=\"dataframe\">\n",
       "  <thead>\n",
       "    <tr style=\"text-align: right;\">\n",
       "      <th></th>\n",
       "      <th>type</th>\n",
       "      <th>v</th>\n",
       "    </tr>\n",
       "    <tr>\n",
       "      <th>k</th>\n",
       "      <th></th>\n",
       "      <th></th>\n",
       "    </tr>\n",
       "  </thead>\n",
       "  <tbody>\n",
       "    <tr>\n",
       "      <th>1</th>\n",
       "      <td>0</td>\n",
       "      <td>10</td>\n",
       "    </tr>\n",
       "    <tr>\n",
       "      <th>3</th>\n",
       "      <td>0</td>\n",
       "      <td>10</td>\n",
       "    </tr>\n",
       "  </tbody>\n",
       "</table>\n",
       "</div>"
      ],
      "text/plain": [
       "   type   v\n",
       "k          \n",
       "1     0  10\n",
       "3     0  10"
      ]
     },
     "execution_count": 24,
     "metadata": {},
     "output_type": "execute_result"
    }
   ],
   "source": [
    "# show duplicated rows\n",
    "df = pd.DataFrame({'k': [1,1,2,2,3,3,3], 'v': [10,20,40,30,10,11,12], 'type':[0,0,0,2,0,2,2]})\n",
    "df.index = df.k\n",
    "df = df.drop('k',1)\n",
    "\n",
    "ind = df.duplicated(subset='v', keep=False)\n",
    "df[ind]"
   ]
  },
  {
   "cell_type": "code",
   "execution_count": 16,
   "metadata": {
    "collapsed": false
   },
   "outputs": [
    {
     "data": {
      "text/html": [
       "<div>\n",
       "<table border=\"1\" class=\"dataframe\">\n",
       "  <thead>\n",
       "    <tr style=\"text-align: right;\">\n",
       "      <th></th>\n",
       "      <th>A</th>\n",
       "      <th>B</th>\n",
       "      <th>C</th>\n",
       "      <th>D</th>\n",
       "      <th>X</th>\n",
       "    </tr>\n",
       "  </thead>\n",
       "  <tbody>\n",
       "    <tr>\n",
       "      <th>2016-01-01</th>\n",
       "      <td>0</td>\n",
       "      <td>1</td>\n",
       "      <td>2</td>\n",
       "      <td>3</td>\n",
       "      <td>4</td>\n",
       "    </tr>\n",
       "    <tr>\n",
       "      <th>2016-01-02</th>\n",
       "      <td>5</td>\n",
       "      <td>6</td>\n",
       "      <td>7</td>\n",
       "      <td>8</td>\n",
       "      <td>9</td>\n",
       "    </tr>\n",
       "    <tr>\n",
       "      <th>2016-01-03</th>\n",
       "      <td>10</td>\n",
       "      <td>11</td>\n",
       "      <td>12</td>\n",
       "      <td>13</td>\n",
       "      <td>14</td>\n",
       "    </tr>\n",
       "    <tr>\n",
       "      <th>2016-01-04</th>\n",
       "      <td>15</td>\n",
       "      <td>16</td>\n",
       "      <td>17</td>\n",
       "      <td>18</td>\n",
       "      <td>19</td>\n",
       "    </tr>\n",
       "    <tr>\n",
       "      <th>2016-01-05</th>\n",
       "      <td>20</td>\n",
       "      <td>21</td>\n",
       "      <td>22</td>\n",
       "      <td>23</td>\n",
       "      <td>24</td>\n",
       "    </tr>\n",
       "  </tbody>\n",
       "</table>\n",
       "</div>"
      ],
      "text/plain": [
       "             A   B   C   D   X\n",
       "2016-01-01   0   1   2   3   4\n",
       "2016-01-02   5   6   7   8   9\n",
       "2016-01-03  10  11  12  13  14\n",
       "2016-01-04  15  16  17  18  19\n",
       "2016-01-05  20  21  22  23  24"
      ]
     },
     "execution_count": 16,
     "metadata": {},
     "output_type": "execute_result"
    }
   ],
   "source": [
    "df = pd.DataFrame(np.arange(25).reshape(5,5), \n",
    "                      index=pd.date_range('1/1/2016', periods=5),\n",
    "                      columns=list('ABCDE'))\n",
    "\n",
    "df.rename(columns={'E': 'X'}, inplace=True)\n",
    "df\n"
   ]
  },
  {
   "cell_type": "code",
   "execution_count": 3,
   "metadata": {
    "collapsed": false
   },
   "outputs": [],
   "source": [
    "\n",
    "with open('filename.pickle', 'wb') as fid:\n",
    "    pickle.dump(df, fid)\n",
    "    \n",
    "with open('filename.pickle', 'rb') as fid:\n",
    "    df = pickle.load(fid)"
   ]
  },
  {
   "cell_type": "code",
   "execution_count": 4,
   "metadata": {
    "collapsed": false
   },
   "outputs": [
    {
     "data": {
      "image/png": "[encoded data removed]",
      "text/plain": [
       "<matplotlib.figure.Figure at 0x7f6f2f120128>"
      ]
     },
     "metadata": {},
     "output_type": "display_data"
    }
   ],
   "source": [
    "df.plot()\n",
    "plt.legend().remove()\n"
   ]
  },
  {
   "cell_type": "code",
   "execution_count": 5,
   "metadata": {
    "collapsed": false
   },
   "outputs": [
    {
     "name": "stdout",
     "output_type": "stream",
     "text": [
      "plot1\n",
      "<bound method Axes.legend of <matplotlib.axes._subplots.AxesSubplot object at 0x7f6f2cceccc0>>\n"
     ]
    },
    {
     "data": {
      "image/png": "[encoded data removed]",
      "text/plain": [
       "<matplotlib.figure.Figure at 0x7f6f2ccec5c0>"
      ]
     },
     "metadata": {},
     "output_type": "display_data"
    }
   ],
   "source": [
    "# http://stackoverflow.com/questions/3899980/how-to-change-the-font-size-on-a-matplotlib-plot\n",
    "x1 = [1,2,3]\n",
    "y1 = [15,17,14]\n",
    "\n",
    "h1, = plt.plot(x1,y1, label='plot1')\n",
    "print(h1.get_label()) #unpacked to Line2D(plot1)\n",
    "\n",
    "plt.xlabel('x')\n",
    "plt.ylabel('y')\n",
    "plt.title('title')\n",
    "plt.legend(fontsize = 15)\n",
    "\n",
    "ax = plt.gca()\n",
    "for item in ([ax.title, ax.xaxis.label, ax.yaxis.label] + ax.get_xticklabels() + ax.get_yticklabels()):\n",
    "    item.set_fontsize(25)\n",
    "print(ax.legend)\n",
    "\n",
    "\n",
    "\n"
   ]
  },
  {
   "cell_type": "code",
   "execution_count": 6,
   "metadata": {
    "collapsed": false
   },
   "outputs": [
    {
     "data": {
      "text/plain": [
       "[(11, 21), (2, 4, 10)]"
      ]
     },
     "execution_count": 6,
     "metadata": {},
     "output_type": "execute_result"
    }
   ],
   "source": [
    "def myf(num):\n",
    "  return num, (num+10, num+20), (num*2, num*4, num*10)\n",
    "\n",
    "result, *rest = myf(1)\n",
    "\n",
    "rest"
   ]
  },
  {
   "cell_type": "code",
   "execution_count": 7,
   "metadata": {
    "collapsed": false
   },
   "outputs": [
    {
     "data": {
      "image/png": "[encoded data removed]",
      "text/plain": [
       "<matplotlib.figure.Figure at 0x7f6f2f1014a8>"
      ]
     },
     "metadata": {},
     "output_type": "display_data"
    }
   ],
   "source": [
    "import matplotlib.pyplot as plt\n",
    "\n",
    "\n",
    "def example_plot(ax):\n",
    "    ax.plot([1, 2])\n",
    "    ax.set_xlabel('x-label')\n",
    "    ax.set_ylabel('y-label')\n",
    "    ax.set_title('Title')\n",
    "\n",
    "\n",
    "fig = plt.figure()\n",
    "\n",
    "ax1 = plt.subplot2grid((3, 3), (0, 0))\n",
    "ax2 = plt.subplot2grid((3, 3), (0, 1), colspan=2)\n",
    "ax3 = plt.subplot2grid((3, 3), (1, 0), colspan=2, rowspan=2)\n",
    "ax4 = plt.subplot2grid((3, 3), (1, 2), rowspan=2)\n",
    "\n",
    "example_plot(ax1)\n",
    "example_plot(ax2)\n",
    "example_plot(ax3)\n",
    "example_plot(ax4)\n",
    "\n",
    "plt.tight_layout()"
   ]
  },
  {
   "cell_type": "code",
   "execution_count": 8,
   "metadata": {
    "collapsed": false
   },
   "outputs": [
    {
     "name": "stdout",
     "output_type": "stream",
     "text": [
      "                   A         B         C         D         E\n",
      "2016-01-01  0.757646  0.699819  0.344087  0.355382  0.286086\n",
      "2016-01-02  0.951842  0.743475  0.748973  0.072735  0.916901\n",
      "2016-01-03  0.185560  0.488413  0.717834  0.269923  0.967536\n",
      "2016-01-04  0.906705  0.344505  0.026215  0.202537  0.256815\n",
      "2016-01-05  0.476185  0.310522  0.537668  0.843368  0.844292\n"
     ]
    },
    {
     "data": {
      "image/png": "[encoded data removed]",
      "text/plain": [
       "<matplotlib.figure.Figure at 0x7f6f2c6b52b0>"
      ]
     },
     "metadata": {},
     "output_type": "display_data"
    }
   ],
   "source": [
    "df = pd.DataFrame(np.random.rand(25).reshape(5,5), \n",
    "                      index=pd.date_range('1/1/2016', periods=5),\n",
    "                      columns=list('ABCDE'))\n",
    "print(df)\n",
    "corr = df.corr()\n",
    "\n",
    "fig, ax = plt.subplots(figsize=(3, 3))\n",
    "h = ax.matshow(corr)\n",
    "plt.xticks(range(len(corr.columns)), corr.columns);\n",
    "plt.yticks(range(len(corr.columns)), corr.columns);\n",
    "\n",
    "plt.colorbar(h)\n",
    "plt.set_cmap('Greys')"
   ]
  },
  {
   "cell_type": "code",
   "execution_count": 9,
   "metadata": {
    "collapsed": false
   },
   "outputs": [
    {
     "name": "stdout",
     "output_type": "stream",
     "text": [
      "<class 'pandas.core.panel.Panel'>\n",
      "Dimensions: 3 (items) x 3 (major_axis) x 3 (minor_axis)\n",
      "Items axis: 0 to 2\n",
      "Major_axis axis: 0 to 2\n",
      "Minor_axis axis: 0 to 2\n",
      "<class 'pandas.core.frame.DataFrame'>\n",
      "<class 'pandas.core.series.Series'>\n",
      "<class 'numpy.float64'>\n"
     ]
    }
   ],
   "source": [
    "t = np.linspace(1,27,27).reshape(3,3,3)\n",
    "pan = pd.Panel(t)\n",
    "\n",
    "print(pan)\n",
    "print(type(pan.iloc[0,:,:]))\n",
    "print(type(pan.iloc[0,0,:]))\n",
    "print(type(pan.iloc[0,0,0]))"
   ]
  },
  {
   "cell_type": "code",
   "execution_count": 10,
   "metadata": {
    "collapsed": false
   },
   "outputs": [
    {
     "data": {
      "text/html": [
       "<div>\n",
       "<table border=\"1\" class=\"dataframe\">\n",
       "  <thead>\n",
       "    <tr style=\"text-align: right;\">\n",
       "      <th></th>\n",
       "      <th>product</th>\n",
       "      <th>Gloves</th>\n",
       "      <th>Pants</th>\n",
       "      <th>Shoes</th>\n",
       "    </tr>\n",
       "    <tr>\n",
       "      <th>date</th>\n",
       "      <th>minor</th>\n",
       "      <th></th>\n",
       "      <th></th>\n",
       "      <th></th>\n",
       "    </tr>\n",
       "  </thead>\n",
       "  <tbody>\n",
       "    <tr>\n",
       "      <th rowspan=\"2\" valign=\"top\">2013-01-01</th>\n",
       "      <th>price</th>\n",
       "      <td>10.0</td>\n",
       "      <td>50.0</td>\n",
       "      <td>100.0</td>\n",
       "    </tr>\n",
       "    <tr>\n",
       "      <th>quantity</th>\n",
       "      <td>5.0</td>\n",
       "      <td>10.0</td>\n",
       "      <td>10.0</td>\n",
       "    </tr>\n",
       "    <tr>\n",
       "      <th rowspan=\"2\" valign=\"top\">2013-01-02</th>\n",
       "      <th>price</th>\n",
       "      <td>12.5</td>\n",
       "      <td>55.5</td>\n",
       "      <td>102.5</td>\n",
       "    </tr>\n",
       "    <tr>\n",
       "      <th>quantity</th>\n",
       "      <td>6.0</td>\n",
       "      <td>12.0</td>\n",
       "      <td>10.0</td>\n",
       "    </tr>\n",
       "    <tr>\n",
       "      <th rowspan=\"2\" valign=\"top\">2013-01-03</th>\n",
       "      <th>price</th>\n",
       "      <td>10.0</td>\n",
       "      <td>50.0</td>\n",
       "      <td>100.0</td>\n",
       "    </tr>\n",
       "    <tr>\n",
       "      <th>quantity</th>\n",
       "      <td>7.0</td>\n",
       "      <td>14.0</td>\n",
       "      <td>12.0</td>\n",
       "    </tr>\n",
       "  </tbody>\n",
       "</table>\n",
       "</div>"
      ],
      "text/plain": [
       "product              Gloves  Pants  Shoes\n",
       "date       minor                         \n",
       "2013-01-01 price       10.0   50.0  100.0\n",
       "           quantity     5.0   10.0   10.0\n",
       "2013-01-02 price       12.5   55.5  102.5\n",
       "           quantity     6.0   12.0   10.0\n",
       "2013-01-03 price       10.0   50.0  100.0\n",
       "           quantity     7.0   14.0   12.0"
      ]
     },
     "metadata": {},
     "output_type": "display_data"
    },
    {
     "data": {
      "text/html": [
       "<div>\n",
       "<table border=\"1\" class=\"dataframe\">\n",
       "  <thead>\n",
       "    <tr style=\"text-align: right;\">\n",
       "      <th></th>\n",
       "      <th>product</th>\n",
       "      <th>Gloves</th>\n",
       "      <th>Pants</th>\n",
       "      <th>Shoes</th>\n",
       "    </tr>\n",
       "    <tr>\n",
       "      <th>date</th>\n",
       "      <th>minor</th>\n",
       "      <th></th>\n",
       "      <th></th>\n",
       "      <th></th>\n",
       "    </tr>\n",
       "  </thead>\n",
       "  <tbody>\n",
       "    <tr>\n",
       "      <th rowspan=\"2\" valign=\"top\">2013-01-01</th>\n",
       "      <th>price</th>\n",
       "      <td>-10.0</td>\n",
       "      <td>-50.0</td>\n",
       "      <td>-100.0</td>\n",
       "    </tr>\n",
       "    <tr>\n",
       "      <th>quantity</th>\n",
       "      <td>-5.0</td>\n",
       "      <td>-10.0</td>\n",
       "      <td>-10.0</td>\n",
       "    </tr>\n",
       "    <tr>\n",
       "      <th rowspan=\"2\" valign=\"top\">2013-01-02</th>\n",
       "      <th>price</th>\n",
       "      <td>-12.5</td>\n",
       "      <td>-55.5</td>\n",
       "      <td>-102.5</td>\n",
       "    </tr>\n",
       "    <tr>\n",
       "      <th>quantity</th>\n",
       "      <td>-6.0</td>\n",
       "      <td>-12.0</td>\n",
       "      <td>-10.0</td>\n",
       "    </tr>\n",
       "    <tr>\n",
       "      <th rowspan=\"2\" valign=\"top\">2013-01-03</th>\n",
       "      <th>price</th>\n",
       "      <td>-10.0</td>\n",
       "      <td>-50.0</td>\n",
       "      <td>-100.0</td>\n",
       "    </tr>\n",
       "    <tr>\n",
       "      <th>quantity</th>\n",
       "      <td>-7.0</td>\n",
       "      <td>-14.0</td>\n",
       "      <td>-12.0</td>\n",
       "    </tr>\n",
       "  </tbody>\n",
       "</table>\n",
       "</div>"
      ],
      "text/plain": [
       "product              Gloves  Pants  Shoes\n",
       "date       minor                         \n",
       "2013-01-01 price      -10.0  -50.0 -100.0\n",
       "           quantity    -5.0  -10.0  -10.0\n",
       "2013-01-02 price      -12.5  -55.5 -102.5\n",
       "           quantity    -6.0  -12.0  -10.0\n",
       "2013-01-03 price      -10.0  -50.0 -100.0\n",
       "           quantity    -7.0  -14.0  -12.0"
      ]
     },
     "metadata": {},
     "output_type": "display_data"
    },
    {
     "data": {
      "image/png": "[encoded data removed]",
      "text/plain": [
       "<matplotlib.figure.Figure at 0x7f6f2c60d9b0>"
      ]
     },
     "metadata": {},
     "output_type": "display_data"
    }
   ],
   "source": [
    "df = pd.read_csv('notes.csv', index_col=[0,1])\n",
    "\n",
    "pan = df.to_panel()\n",
    "\n",
    "pan = pan.swapaxes('minor','items')\n",
    "\n",
    "display(pan.to_frame())\n",
    "\n",
    "for column in pan.iloc[0].columns:\n",
    "#     print(column)\n",
    "    pan.loc[:,:,column] = - pan.loc[:,:,column]\n",
    "\n",
    "display(pan.to_frame())\n",
    "\n",
    "# Items axis: Gloves to Shoes\n",
    "# Major_axis axis: 2013-01-01 to 2013-01-03\n",
    "# Minor_axis axis: price to quantity\n",
    "\n",
    "\n",
    "pan.loc[:,:,'price'].plot();"
   ]
  },
  {
   "cell_type": "code",
   "execution_count": 11,
   "metadata": {
    "collapsed": false
   },
   "outputs": [
    {
     "data": {
      "text/plain": [
       "<matplotlib.axes._subplots.AxesSubplot at 0x7f6f2cd9cda0>"
      ]
     },
     "execution_count": 11,
     "metadata": {},
     "output_type": "execute_result"
    },
    {
     "data": {
      "image/png": "[encoded data removed]",
      "text/plain": [
       "<matplotlib.figure.Figure at 0x7f6f2c5d7438>"
      ]
     },
     "metadata": {},
     "output_type": "display_data"
    },
    {
     "data": {
      "image/png": "[encoded data removed]",
      "text/plain": [
       "<matplotlib.figure.Figure at 0x7f6f2f1010f0>"
      ]
     },
     "metadata": {},
     "output_type": "display_data"
    }
   ],
   "source": [
    "# example of removing outliers \n",
    "bridge_height = {'meters':[10.26, 10.31, 10.27, 10.22, 10.23, 6212.42, 10.28, 10.25, 10.31]}\n",
    "df = pd.DataFrame(bridge_height)\n",
    "df['std'] = df.rolling(window=2).std()\n",
    "df_std=df.describe()['meters']['std']\n",
    "df[df['std']<df_std]['meters'].plot()\n",
    "df.plot()"
   ]
  },
  {
   "cell_type": "code",
   "execution_count": 4,
   "metadata": {
    "collapsed": false
   },
   "outputs": [
    {
     "data": {
      "text/plain": [
       "[<matplotlib.lines.Line2D at 0x116fb8090>]"
      ]
     },
     "execution_count": 4,
     "metadata": {},
     "output_type": "execute_result"
    },
    {
     "data": {
      "image/png": "[encoded data removed]",
      "text/plain": [
       "<matplotlib.figure.Figure at 0x116fc9d90>"
      ]
     },
     "metadata": {},
     "output_type": "display_data"
    }
   ],
   "source": [
    "mu, sigma = 0, 0.1 # mean and standard deviation\n",
    "x0 = np.random.normal(mu, sigma, 500)\n",
    "y0 = np.random.normal(mu, sigma, 500)\n",
    "\n",
    "mu, sigma = 0.25, 0.1 # mean and standard deviation\n",
    "x1 = np.random.normal(mu, sigma, 500)\n",
    "y1 = np.random.normal(mu, sigma, 500)\n",
    "\n",
    "mu, sigma = 0.5, 0.1 # mean and standard deviation\n",
    "x2 = np.random.normal(mu, sigma, 500)\n",
    "y2 = np.random.normal(mu, sigma, 500)\n",
    "\n",
    "x = np.concatenate((x0,x1,x2))\n",
    "y = np.concatenate((y0,y1,y2))\n",
    "\n",
    "fig, ax = plt.subplots()\n",
    "ax.plot(x,y,'x')"
   ]
  },
  {
   "cell_type": "code",
   "execution_count": 5,
   "metadata": {
    "collapsed": false
   },
   "outputs": [
    {
     "name": "stdout",
     "output_type": "stream",
     "text": [
      "The slowest run took 551.92 times longer than the fastest. This could mean that an intermediate result is being cached.\n",
      "1000 loops, best of 3: 180 µs per loop\n",
      "10 loops, best of 3: 32.4 ms per loop\n",
      "The slowest run took 67.14 times longer than the fastest. This could mean that an intermediate result is being cached.\n",
      "1000 loops, best of 3: 216 µs per loop\n"
     ]
    }
   ],
   "source": [
    "# http://stackoverflow.com/questions/16626058/what-is-the-performance-impact-of-non-unique-indexes-in-pandas\n",
    "x = np.random.randint(0, 200, 10**6)\n",
    "df1 = pd.DataFrame({'x':x})\n",
    "df2 = df1.set_index('x', drop=False)\n",
    "df3 = df2.sort_index()\n",
    "%timeit df1.ix[100]\n",
    "%timeit df2.ix[100]\n",
    "%timeit df3.ix[100]"
   ]
  },
  {
   "cell_type": "code",
   "execution_count": 12,
   "metadata": {
    "collapsed": false
   },
   "outputs": [
    {
     "data": {
      "text/html": [
       "<div>\n",
       "<table border=\"1\" class=\"dataframe\">\n",
       "  <thead>\n",
       "    <tr style=\"text-align: right;\">\n",
       "      <th></th>\n",
       "      <th>total_bill</th>\n",
       "      <th>tip</th>\n",
       "      <th>sex</th>\n",
       "      <th>smoker</th>\n",
       "      <th>day</th>\n",
       "      <th>time</th>\n",
       "      <th>size</th>\n",
       "    </tr>\n",
       "  </thead>\n",
       "  <tbody>\n",
       "    <tr>\n",
       "      <th>17</th>\n",
       "      <td>16.29</td>\n",
       "      <td>3.71</td>\n",
       "      <td>Male</td>\n",
       "      <td>No</td>\n",
       "      <td>Sun</td>\n",
       "      <td>Dinner</td>\n",
       "      <td>3</td>\n",
       "    </tr>\n",
       "    <tr>\n",
       "      <th>18</th>\n",
       "      <td>16.97</td>\n",
       "      <td>3.50</td>\n",
       "      <td>Female</td>\n",
       "      <td>No</td>\n",
       "      <td>Sun</td>\n",
       "      <td>Dinner</td>\n",
       "      <td>3</td>\n",
       "    </tr>\n",
       "    <tr>\n",
       "      <th>19</th>\n",
       "      <td>20.65</td>\n",
       "      <td>3.35</td>\n",
       "      <td>Male</td>\n",
       "      <td>No</td>\n",
       "      <td>Sat</td>\n",
       "      <td>Dinner</td>\n",
       "      <td>3</td>\n",
       "    </tr>\n",
       "    <tr>\n",
       "      <th>20</th>\n",
       "      <td>17.92</td>\n",
       "      <td>4.08</td>\n",
       "      <td>Male</td>\n",
       "      <td>No</td>\n",
       "      <td>Sat</td>\n",
       "      <td>Dinner</td>\n",
       "      <td>2</td>\n",
       "    </tr>\n",
       "    <tr>\n",
       "      <th>21</th>\n",
       "      <td>20.29</td>\n",
       "      <td>2.75</td>\n",
       "      <td>Female</td>\n",
       "      <td>No</td>\n",
       "      <td>Sat</td>\n",
       "      <td>Dinner</td>\n",
       "      <td>2</td>\n",
       "    </tr>\n",
       "    <tr>\n",
       "      <th>22</th>\n",
       "      <td>15.77</td>\n",
       "      <td>2.23</td>\n",
       "      <td>Female</td>\n",
       "      <td>No</td>\n",
       "      <td>Sat</td>\n",
       "      <td>Dinner</td>\n",
       "      <td>2</td>\n",
       "    </tr>\n",
       "    <tr>\n",
       "      <th>23</th>\n",
       "      <td>39.42</td>\n",
       "      <td>7.58</td>\n",
       "      <td>Male</td>\n",
       "      <td>No</td>\n",
       "      <td>Sat</td>\n",
       "      <td>Dinner</td>\n",
       "      <td>4</td>\n",
       "    </tr>\n",
       "  </tbody>\n",
       "</table>\n",
       "</div>"
      ],
      "text/plain": [
       "    total_bill   tip     sex smoker  day    time  size\n",
       "17       16.29  3.71    Male     No  Sun  Dinner     3\n",
       "18       16.97  3.50  Female     No  Sun  Dinner     3\n",
       "19       20.65  3.35    Male     No  Sat  Dinner     3\n",
       "20       17.92  4.08    Male     No  Sat  Dinner     2\n",
       "21       20.29  2.75  Female     No  Sat  Dinner     2\n",
       "22       15.77  2.23  Female     No  Sat  Dinner     2\n",
       "23       39.42  7.58    Male     No  Sat  Dinner     4"
      ]
     },
     "execution_count": 12,
     "metadata": {},
     "output_type": "execute_result"
    }
   ],
   "source": [
    "def whereami(df, ind, num_to_view=5):\n",
    "    if not isinstance(df, pd.DataFrame):\n",
    "        raise TypeError('must be pandas.core.frame.DataFrame')\n",
    "    try:\n",
    "        location = df.index.get_loc(str(ind))\n",
    "    except KeyError:\n",
    "         location = df.index.get_loc(ind)\n",
    "            \n",
    "    try: \n",
    "        new_location = slice(location.start-num_to_view, location.stop+num_to_view+1, location.step)\n",
    "    except AttributeError:\n",
    "        new_location = slice(location-num_to_view, location+num_to_view+1)\n",
    "    return df[new_location]\n",
    "\n",
    "tips = sns.load_dataset(\"tips\")\n",
    "whereami(tips,20,3)"
   ]
  },
  {
   "cell_type": "code",
   "execution_count": 22,
   "metadata": {
    "collapsed": false
   },
   "outputs": [
    {
     "name": "stdout",
     "output_type": "stream",
     "text": [
      "peak memory: 129.04 MiB, increment: 53.76 MiB\n",
      "CPU times: user 429 ms, sys: 269 ms, total: 697 ms\n",
      "Wall time: 1.03 s\n"
     ]
    },
    {
     "data": {
      "image/png": "[encoded data removed]",
      "text/plain": [
       "<matplotlib.figure.Figure at 0x10a9b6650>"
      ]
     },
     "metadata": {},
     "output_type": "display_data"
    }
   ],
   "source": [
    "%%time \n",
    "%%memit pass\n",
    "# down sampling in order to plot faster\n",
    "\n",
    "x = np.random.randint(0, 200, 10**6)\n",
    "y = np.random.randint(0, 200, 10**6)\n",
    "df = pd.DataFrame({'x':x, 'y':y})\n",
    "# df.shape # (1000000, 2)\n",
    "\n",
    "df.sample(1000).plot(kind='scatter', x='x', y='y')\n",
    "\n",
    "# without down sampling\n",
    "# peak memory: 338.07 MiB, increment: 151.70 MiB\n",
    "# CPU times: user 13.8 s, sys: 458 ms, total: 14.3 s\n",
    "# Wall time: 14.3 s"
   ]
  },
  {
   "cell_type": "code",
   "execution_count": null,
   "metadata": {
    "collapsed": true
   },
   "outputs": [],
   "source": []
  }
 ],
 "metadata": {
  "anaconda-cloud": {},
  "kernelspec": {
   "display_name": "Python [Root]",
   "language": "python",
   "name": "Python [Root]"
  },
  "language_info": {
   "codemirror_mode": {
    "name": "ipython",
    "version": 2
   },
   "file_extension": ".py",
   "mimetype": "text/x-python",
   "name": "python",
   "nbconvert_exporter": "python",
   "pygments_lexer": "ipython2",
   "version": "2.7.11"
  }
 },
 "nbformat": 4,
 "nbformat_minor": 0
}
